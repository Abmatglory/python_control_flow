{
 "cells": [
  {
   "cell_type": "markdown",
   "metadata": {},
   "source": [
    "# TOPIC: CONTROL FLOW Based Problem "
   ]
  },
  {
   "cell_type": "markdown",
   "metadata": {},
   "source": [
    "# Basic Level:"
   ]
  },
  {
   "cell_type": "markdown",
   "metadata": {},
   "source": [
    "# 1. Write a Python program that checks if a given number is positive, negative, or zero."
   ]
  },
  {
   "cell_type": "code",
   "execution_count": 4,
   "metadata": {},
   "outputs": [
    {
     "name": "stdout",
     "output_type": "stream",
     "text": [
      "The number 0 is : zero\n",
      "\n",
      "The number 4 is : positive\n",
      "\n",
      "The number -7 is : negative\n",
      "\n"
     ]
    }
   ],
   "source": [
    "def chk_pos_neg_zero(n):\n",
    "    if n > 0:\n",
    "        return 'positive'\n",
    "    elif n < 0:\n",
    "        return 'negative'\n",
    "    else :\n",
    "        return 'zero'\n",
    "    \n",
    "#Test above function\n",
    "n = 0\n",
    "m = 4 \n",
    "k = -7\n",
    "\n",
    "print(f\"The number {n} is : {chk_pos_neg_zero(n)}\\n\")\n",
    "print(f\"The number {m} is : {chk_pos_neg_zero(m)}\\n\")\n",
    "print(f\"The number {k} is : {chk_pos_neg_zero(k)}\\n\")"
   ]
  },
  {
   "cell_type": "markdown",
   "metadata": {},
   "source": [
    "# 2. Create a program that determines if a person is eligible to vote based on their age."
   ]
  },
  {
   "cell_type": "code",
   "execution_count": 5,
   "metadata": {},
   "outputs": [
    {
     "name": "stdout",
     "output_type": "stream",
     "text": [
      "The person having age 15 is not eligible to vote\n",
      "The person having age 21 is eligible to vote\n"
     ]
    }
   ],
   "source": [
    "def chk_eligible_to_vote(n):\n",
    "    if n > 18:\n",
    "        return True\n",
    "    else :\n",
    "        return False\n",
    "    \n",
    "#Test above function\n",
    "n = 15\n",
    "m = 21\n",
    "\n",
    "if chk_eligible_to_vote(n):\n",
    "    print(f\"The person having age {n} is eligible to vote\")\n",
    "else :\n",
    "    print(f\"The person having age {n} is not eligible to vote\")\n",
    "    \n",
    "if chk_eligible_to_vote(m):\n",
    "    print(f\"The person having age {m} is eligible to vote\")\n",
    "else :\n",
    "    print(f\"The person having age {m} is not eligible to vote\")\n",
    "    \n",
    "\n"
   ]
  },
  {
   "cell_type": "markdown",
   "metadata": {},
   "source": [
    "# 3. Write a program to find the maximum of two given numbers using conditional statements."
   ]
  },
  {
   "cell_type": "code",
   "execution_count": 6,
   "metadata": {},
   "outputs": [
    {
     "name": "stdout",
     "output_type": "stream",
     "text": [
      "The maxmium between two numbers 23 and 17 is : 23\n",
      "\n",
      "Both the numbers 23 and 23 are equal\n"
     ]
    }
   ],
   "source": [
    "# the below function return the maximum of 2 number and return 0 for equal\n",
    "def max_between_two_num(num1 , num2):    # assuming\n",
    "    if num1 > num2 :\n",
    "        return num1\n",
    "    elif num2 > num1 :\n",
    "        return num2\n",
    "    else :\n",
    "        return 0\n",
    "\n",
    "#Test above function\n",
    "n = 23\n",
    "m = 17\n",
    "k = 23\n",
    "\n",
    "if max_between_two_num(n , m ):\n",
    "    print(f\"The maxmium between two numbers {n} and {m} is : {max_between_two_num(n,m)}\")\n",
    "else :\n",
    "    print(f\"Both the numbers {n} and {m} are equal\")\n",
    " \n",
    "print()\n",
    "\n",
    "if max_between_two_num(n , k ):\n",
    "    print(f\"The maxmium between two numbers {n} and {k} is : {max_between_two_num(n,k)}\")\n",
    "else :\n",
    "    print(f\"Both the numbers {n} and {k} are equal\")\n",
    "    "
   ]
  },
  {
   "cell_type": "markdown",
   "metadata": {},
   "source": [
    "# 4. Develop a program that calculates the grade of a student based on their exam score.\n"
   ]
  },
  {
   "cell_type": "code",
   "execution_count": 61,
   "metadata": {},
   "outputs": [
    {
     "name": "stdout",
     "output_type": "stream",
     "text": [
      "The grade of student who got marks 92 is: A+\n",
      "\n",
      "The grade of student who got marks 56 is: C\n",
      "\n",
      "The grade of student who got marks 39 is: D\n",
      "\n"
     ]
    }
   ],
   "source": [
    "def chk_grade(marks):\n",
    "    if marks > 85 :\n",
    "        return 'A+'\n",
    "    elif marks > 70 :\n",
    "        return 'A'\n",
    "    elif marks > 60 :\n",
    "        return 'B'\n",
    "    elif marks > 40 :\n",
    "        return 'C'\n",
    "    else :\n",
    "        return 'D'\n",
    " \n",
    "# To`Test the above function\n",
    "\n",
    "n = 92\n",
    "m = 56\n",
    "k = 39\n",
    "\n",
    "print(f\"The grade of student who got marks {n} is: {chk_grade(n)}\\n\")\n",
    "print(f\"The grade of student who got marks {m} is: {chk_grade(m)}\\n\")\n",
    "print(f\"The grade of student who got marks {k} is: {chk_grade(k)}\\n\")"
   ]
  },
  {
   "cell_type": "markdown",
   "metadata": {},
   "source": [
    "# 5. Create a program that checks if a year is a leap year or not."
   ]
  },
  {
   "cell_type": "code",
   "execution_count": 9,
   "metadata": {},
   "outputs": [
    {
     "name": "stdout",
     "output_type": "stream",
     "text": [
      "The Year 2020 is Leap Year\n",
      "\n",
      "The Year 2023 is not a Leap Year\n",
      "\n",
      "The Year 2100 is not a Leap Year\n",
      "\n"
     ]
    }
   ],
   "source": [
    "def chk_leap_year(n):\n",
    "    if n % 100 == 0 :\n",
    "        if n % 400 == 0:\n",
    "            return True\n",
    "        else :\n",
    "            return False\n",
    "    else :\n",
    "        if n % 4 == 0:\n",
    "            return True\n",
    "        else :\n",
    "            return False\n",
    "        \n",
    "#Test above function\n",
    "n = 2020\n",
    "m = 2100\n",
    "k = 2023\n",
    "\n",
    "if chk_leap_year(n):\n",
    "    print(f\"The Year {n} is Leap Year\\n\")\n",
    "else :\n",
    "    print(f\"The Year {n} is not a Leap Year\\n\")\n",
    "    \n",
    "if chk_leap_year(k):\n",
    "    print(f\"The Year {k} is Leap Year\\n\")\n",
    "else :\n",
    "    print(f\"The Year {k} is not a Leap Year\\n\")\n",
    "\n",
    "if chk_leap_year(m):\n",
    "    print(f\"The Year {m} is Leap Year\\n\")\n",
    "else :\n",
    "    print(f\"The Year {m} is not a Leap Year\\n\")"
   ]
  },
  {
   "cell_type": "markdown",
   "metadata": {},
   "source": [
    "# 6. Write a program to classify a triangle based on its sides' lengths."
   ]
  },
  {
   "cell_type": "code",
   "execution_count": 10,
   "metadata": {},
   "outputs": [
    {
     "name": "stdout",
     "output_type": "stream",
     "text": [
      "The triangle having sides 20 , 20 and 20 is : Equilateral\n",
      "\n",
      "The triangle having sides 20 , 20 and 12 is : Isosceles\n",
      "\n",
      "The triangle having sides 20 , 16 and 12 is : Scalene\n",
      "\n"
     ]
    }
   ],
   "source": [
    "def triangle_type(n,m,k):\n",
    "    if n == m == k :\n",
    "        return \"Equilateral\"\n",
    "    elif n == m or n == k or m == k :\n",
    "        return \"Isosceles\"\n",
    "    else :\n",
    "        return \"Scalene\"\n",
    "    \n",
    "#test the above function\n",
    "\n",
    "n , n1 , n2 = 20 ,20 ,20\n",
    "m , m1 = 16, 16\n",
    "k , k1 = 16 , 16\n",
    "l = 12\n",
    "\n",
    "print(f\"The triangle having sides {n} , {n1} and {n2} is : {triangle_type(n,n1,n2)}\\n\")\n",
    "print(f\"The triangle having sides {n} , {n1} and {l} is : {triangle_type(n,n1,l)}\\n\")\n",
    "print(f\"The triangle having sides {n} , {k} and {l} is : {triangle_type(n,k,l)}\\n\")"
   ]
  },
  {
   "cell_type": "markdown",
   "metadata": {},
   "source": [
    "# 7. Build a program that determines the largest of three given numbers."
   ]
  },
  {
   "cell_type": "code",
   "execution_count": 11,
   "metadata": {},
   "outputs": [
    {
     "name": "stdout",
     "output_type": "stream",
     "text": [
      "The largest of three given number 23 , 67 and 14 is : 67\n"
     ]
    }
   ],
   "source": [
    "def largest_num(num1,num2,num3):\n",
    "    if num1 >= num2 and num1 >= num3:\n",
    "        return num1\n",
    "    elif num2 >= num1 and num2 >= num3:\n",
    "        return num2\n",
    "    else:\n",
    "        return num3\n",
    "n = 23\n",
    "m = 67\n",
    "k = 14\n",
    "\n",
    "print(f\"The largest of three given number {n} , {m} and {k} is : {largest_num(n,m,k)}\")\n",
    "        "
   ]
  },
  {
   "cell_type": "markdown",
   "metadata": {},
   "source": [
    "# 8. Develop a program that checks whether a character is a vowel or a consonant."
   ]
  },
  {
   "cell_type": "code",
   "execution_count": 12,
   "metadata": {},
   "outputs": [
    {
     "name": "stdout",
     "output_type": "stream",
     "text": [
      "The character a is vowel\n",
      "\n",
      "The character t is not a vowel\n",
      "\n"
     ]
    }
   ],
   "source": [
    "def chk_is_vowel(c):\n",
    "    if c.lower() in 'aeiou' :\n",
    "        return True\n",
    "    else :\n",
    "        return False\n",
    "    \n",
    "#Test above function\n",
    "n = 'a'\n",
    "m = 't'\n",
    "\n",
    "\n",
    "if chk_is_vowel(n):\n",
    "    print(f\"The character {n} is vowel\\n\")\n",
    "else :\n",
    "    print(f\"The character {n} is not a vowel\\n\") \n",
    "    \n",
    "if chk_is_vowel(m):\n",
    "    print(f\"The character {m} is vowel\\n\")\n",
    "else :\n",
    "    print(f\"The character {m} is not a vowel\\n\") "
   ]
  },
  {
   "cell_type": "markdown",
   "metadata": {},
   "source": [
    "# 9. Create a program to calculate the total cost of a shopping cart based on discounts."
   ]
  },
  {
   "cell_type": "code",
   "execution_count": 13,
   "metadata": {},
   "outputs": [
    {
     "name": "stdout",
     "output_type": "stream",
     "text": [
      "Enter the purchase amount: 500\n",
      "The total cost of a shopping cart of amount Rs500.00 based on discounts rate 15.0 % is Rs425.00.\n"
     ]
    }
   ],
   "source": [
    "# Input the purchase amount\n",
    "purchase_amount = float(input(\"Enter the purchase amount: \"))\n",
    "\n",
    "# Determine the discounted price based on different purchase amounts using elif statements\n",
    "if purchase_amount < 40:\n",
    "    discount_rate = 0\n",
    "elif 40 <= purchase_amount < 70:\n",
    "    discount_rate = 0.05\n",
    "elif 70 <= purchase_amount < 100:\n",
    "    discount_rate = 0.1\n",
    "else:\n",
    "    discount_rate = 0.15\n",
    "\n",
    "# Calculate the discounted price\n",
    "discounted_price = purchase_amount - (purchase_amount * discount_rate)\n",
    "\n",
    "# Display the result\n",
    "print(f\"The total cost of a shopping cart of amount Rs{purchase_amount:.2f} based on discounts rate {discount_rate * 100 } % is Rs{discounted_price:.2f}.\")"
   ]
  },
  {
   "cell_type": "markdown",
   "metadata": {},
   "source": [
    "# 10. Write a program that checks if a given number is even or odd.\n"
   ]
  },
  {
   "cell_type": "code",
   "execution_count": 14,
   "metadata": {},
   "outputs": [
    {
     "name": "stdout",
     "output_type": "stream",
     "text": [
      "The number 20 is even\n",
      "\n",
      "The number 17 is odd\n",
      "\n"
     ]
    }
   ],
   "source": [
    "def chk_even(n):\n",
    "    if n % 2 == 0:\n",
    "        return True\n",
    "    else :\n",
    "        return False\n",
    "    \n",
    "#Test above function\n",
    "n = 20\n",
    "m = 17\n",
    "\n",
    "\n",
    "if chk_even(n):\n",
    "    print(f\"The number {n} is even\\n\")\n",
    "else :\n",
    "    print(f\"The number {n} is odd\\n\")    \n",
    "    \n",
    "if chk_even(m):\n",
    "    print(f\"The number {m} is even\\n\")\n",
    "else :\n",
    "    print(f\"The number {m} is odd\\n\")    "
   ]
  },
  {
   "cell_type": "markdown",
   "metadata": {},
   "source": [
    "# Intermediate Level:"
   ]
  },
  {
   "cell_type": "markdown",
   "metadata": {},
   "source": [
    "# 11. Write a program that calculates the roots of a quadratic equation ."
   ]
  },
  {
   "cell_type": "code",
   "execution_count": 15,
   "metadata": {},
   "outputs": [
    {
     "name": "stdout",
     "output_type": "stream",
     "text": [
      "Please Enter the coefiicient of 'a' in quadratic equation  ax2 + bx + c = 0 : 1\n",
      "Please Enter the coefiicient of 'a' in quadratic equation  ax2 + bx + c = 0 : -7\n",
      "Please Enter the coefiicient of 'a' in quadratic equation  ax2 + bx + c = 0 : 10\n",
      "The roots are real and distinct: 5.0 and 2.0\n"
     ]
    }
   ],
   "source": [
    "\n",
    "import cmath  # Importing the complex math module for handling complex roots\n",
    "\n",
    "# Take the input from user\n",
    "\n",
    "a = int(input(\"Please Enter the coefiicient of 'a' in quadratic equation  ax2 + bx + c = 0 : \"))\n",
    "b = int(input(\"Please Enter the coefiicient of 'a' in quadratic equation  ax2 + bx + c = 0 : \"))        \n",
    "c = int(input(\"Please Enter the coefiicient of 'a' in quadratic equation  ax2 + bx + c = 0 : \"))\n",
    "        \n",
    "# Calculate the discriminant\n",
    "d = b**2 - 4*a*c\n",
    "\n",
    "# Check the type and calculate roots based on the discriminant\n",
    "if d > 0:\n",
    "    # Two real and distinct roots\n",
    "    root1 = (-b + (d**0.5)) / (2*a)  \n",
    "    root2 = (-b - (d**0.5)) / (2*a)\n",
    "    print(f\"The roots are real and distinct: {root1} and {root2}\")\n",
    "elif d == 0:\n",
    "    # One real and repeated root\n",
    "    root = -b / (2*a)\n",
    "    print(f\"The root is real and repeated: {root}\")\n",
    "else:\n",
    "    # Complex roots (conjugates)\n",
    "    r = -b / (2*a)                # Real part\n",
    "    i = round((abs(d)**0.5) / (2*a) ,2 )   # Imaginary part , rounding up to 2 decimal place\n",
    "    root1 = complex(r, i)\n",
    "    root2 = complex(r, -i)    \n",
    "    print(f\"The roots are complex: {root1} and {root2}\")"
   ]
  },
  {
   "cell_type": "markdown",
   "metadata": {},
   "source": [
    "# 12. Create a program that determines the day of the week based on the day number (1-7)."
   ]
  },
  {
   "cell_type": "code",
   "execution_count": 16,
   "metadata": {},
   "outputs": [
    {
     "name": "stdout",
     "output_type": "stream",
     "text": [
      "The day of week for 3 is : WEDNESDAY\n",
      "\n",
      "The day of week for 11 is : THURSDAY\n",
      "\n",
      "The day of week for 5 is : FRIDAY\n",
      "\n"
     ]
    }
   ],
   "source": [
    "def chk_day(n):\n",
    "    \n",
    "    n = n % 7\n",
    "    if n == 0 :\n",
    "        return \"SUNDAY\"\n",
    "    elif n == 1 :\n",
    "        return \"MONDAY\"\n",
    "    elif n == 2 :\n",
    "        return \"TUESDAY\"\n",
    "    elif n == 3 :\n",
    "        return \"WEDNESDAY\"\n",
    "    elif n == 4 :\n",
    "        return \"THURSDAY\"\n",
    "    elif n == 5 :\n",
    "        return \"FRIDAY\"\n",
    "    else :\n",
    "        return \"SATURDAY\"\n",
    "\n",
    "# Test above function\n",
    "n,m,k = 3 , 11 , 5\n",
    "\n",
    "print(f\"The day of week for {n} is : {chk_day(n)}\\n\")\n",
    "print(f\"The day of week for {m} is : {chk_day(m)}\\n\")\n",
    "print(f\"The day of week for {k} is : {chk_day(k)}\\n\")"
   ]
  },
  {
   "cell_type": "markdown",
   "metadata": {},
   "source": [
    "# 13. Develop a program that calculates the factorial of a given number using recursion."
   ]
  },
  {
   "cell_type": "code",
   "execution_count": 17,
   "metadata": {},
   "outputs": [
    {
     "name": "stdout",
     "output_type": "stream",
     "text": [
      "The factorial of number 5 is : 120\n",
      "\n",
      "The factorial of number 9 is : 362880\n",
      "\n",
      "The factorial of number 12 is : 479001600\n",
      "\n"
     ]
    }
   ],
   "source": [
    "def factorial(n):\n",
    "    if n == 1:\n",
    "        return n\n",
    "    else :\n",
    "        return n * factorial(n-1)\n",
    "    \n",
    "#Test the above function\n",
    "n,m,k = 5 , 9, 12\n",
    "print(f\"The factorial of number {n} is : {factorial(n)}\\n\")\n",
    "print(f\"The factorial of number {m} is : {factorial(m)}\\n\")\n",
    "print(f\"The factorial of number {k} is : {factorial(k)}\\n\")"
   ]
  },
  {
   "cell_type": "markdown",
   "metadata": {},
   "source": [
    "# 14. Write a program to find the largest among three numbers without using the 'max()' function."
   ]
  },
  {
   "cell_type": "code",
   "execution_count": 18,
   "metadata": {},
   "outputs": [
    {
     "name": "stdout",
     "output_type": "stream",
     "text": [
      "The largest of three given number 23 , 67 and 14 is : 67\n"
     ]
    }
   ],
   "source": [
    "def largest_num(num1,num2,num3):\n",
    "    if num1 >= num2 and num1 >= num3:\n",
    "        return num1\n",
    "    elif num2 >= num1 and num2 >= num3:\n",
    "        return num2\n",
    "    else:\n",
    "        return num3\n",
    "n = 23\n",
    "m = 67\n",
    "k = 14\n",
    "\n",
    "print(f\"The largest of three given number {n} , {m} and {k} is : {largest_num(n,m,k)}\")\n",
    "        "
   ]
  },
  {
   "cell_type": "markdown",
   "metadata": {},
   "source": [
    "# 15. Create a program that simulates a basic ATM transaction menu."
   ]
  },
  {
   "cell_type": "code",
   "execution_count": 91,
   "metadata": {},
   "outputs": [
    {
     "name": "stdout",
     "output_type": "stream",
     "text": [
      "          === Automated Teller Machine ===          \n",
      "Enter name to register:  abhishek\n",
      "Enter PIN:  123\n",
      "abhishek has been registered with a starting balance of $0\n",
      "\n",
      "          === Automated Teller Machine ===          \n",
      "\n",
      "LOGIN \n",
      "Enter Name: abhishek\n",
      "Enter PIN: 123\n",
      "\n",
      "Login successful!\n",
      "\n",
      "          === Automated Teller Machine ===          \n",
      "User: abhishek\n",
      "------------------------------------------\n",
      "| 1.    Balance     | 2.    Deposit      |\n",
      "------------------------------------------\n",
      "------------------------------------------\n",
      "| 3.    Withdraw    | 4.    Logout       |\n",
      "------------------------------------------\n",
      "Choose an option: 1\n",
      "The Current Account Balance is:  0\n",
      "\n",
      "          === Automated Teller Machine ===          \n",
      "User: abhishek\n",
      "------------------------------------------\n",
      "| 1.    Balance     | 2.    Deposit      |\n",
      "------------------------------------------\n",
      "------------------------------------------\n",
      "| 3.    Withdraw    | 4.    Logout       |\n",
      "------------------------------------------\n",
      "Choose an option: 2\n",
      "Enter amount to deposit: 500\n",
      "The Current Account Balance is:  500.0\n",
      "\n",
      "          === Automated Teller Machine ===          \n",
      "User: abhishek\n",
      "------------------------------------------\n",
      "| 1.    Balance     | 2.    Deposit      |\n",
      "------------------------------------------\n",
      "------------------------------------------\n",
      "| 3.    Withdraw    | 4.    Logout       |\n",
      "------------------------------------------\n",
      "Choose an option: 2\n",
      "Enter amount to deposit: 3000\n",
      "The Current Account Balance is:  3500.0\n",
      "\n",
      "          === Automated Teller Machine ===          \n",
      "User: abhishek\n",
      "------------------------------------------\n",
      "| 1.    Balance     | 2.    Deposit      |\n",
      "------------------------------------------\n",
      "------------------------------------------\n",
      "| 3.    Withdraw    | 4.    Logout       |\n",
      "------------------------------------------\n",
      "Choose an option: 3\n",
      "Enter amount to withdraw: 1000\n",
      "The Current Account Balance is:  2500.0\n",
      "\n",
      "          === Automated Teller Machine ===          \n",
      "User: abhishek\n",
      "------------------------------------------\n",
      "| 1.    Balance     | 2.    Deposit      |\n",
      "------------------------------------------\n",
      "------------------------------------------\n",
      "| 3.    Withdraw    | 4.    Logout       |\n",
      "------------------------------------------\n",
      "Choose an option: 1\n",
      "The Current Account Balance is:  2500.0\n",
      "\n",
      "          === Automated Teller Machine ===          \n",
      "User: abhishek\n",
      "------------------------------------------\n",
      "| 1.    Balance     | 2.    Deposit      |\n",
      "------------------------------------------\n",
      "------------------------------------------\n",
      "| 3.    Withdraw    | 4.    Logout       |\n",
      "------------------------------------------\n",
      "Choose an option: 4\n",
      "GoodBye abhishek!\n"
     ]
    }
   ],
   "source": [
    "# Function for balance show\n",
    "def show_balance(balance):\n",
    "    print(\"The Current Account Balance is: \", balance)\n",
    "\n",
    "# Function for deposit to account\n",
    "def deposit(balance):\n",
    "    amount = input(\"Enter amount to deposit: \")\n",
    "    return balance + float(amount)\n",
    "\n",
    "# Function for withdrawal from account\n",
    "def withdraw(balance):\n",
    "    amount = input(\"Enter amount to withdraw: \")\n",
    "    return balance - float(amount)\n",
    "\n",
    "# Function for logout\n",
    "def logout(name):\n",
    "    print(\"GoodBye\", name + '!')\n",
    "    \n",
    "    \n",
    "# Define function to display ATM Menu\n",
    "\n",
    "def atm_menu(name):\n",
    "    print(\"\")\n",
    "    print(\"          === Automated Teller Machine ===          \")\n",
    "    print(\"User: \" + name)\n",
    "    print(\"------------------------------------------\")\n",
    "    print(\"| 1.    Balance     | 2.    Deposit      |\")\n",
    "    print(\"------------------------------------------\")\n",
    "    print(\"------------------------------------------\")\n",
    "    print(\"| 3.    Withdraw    | 4.    Logout       |\")\n",
    "    print(\"------------------------------------------\")\n",
    "\n",
    "\n",
    "# Register a user\n",
    "print(\"          === Automated Teller Machine ===          \")\n",
    "name = input(\"Enter name to register:  \")\n",
    "pin = input(\"Enter PIN:  \")\n",
    "balance = 0\n",
    "print(name, \"has been registered with a starting balance of\", '$' + str(balance))\n",
    "\n",
    "# Check for ATM login\n",
    "while True:\n",
    "    print(\"\\n          === Automated Teller Machine ===          \")\n",
    "    print(\"\\nLOGIN \")\n",
    "    name_to_validate = input(\"Enter Name: \")\n",
    "    pin_to_validate = input(\"Enter PIN: \")\n",
    "    if (name_to_validate == name and pin_to_validate == pin):\n",
    "        print(\"\\nLogin successful!\")\n",
    "        break\n",
    "    else:\n",
    "        print(\"\\nInvalid credentials!\")\n",
    "\n",
    "# For Successful login, take user option and call appropriate function\n",
    "while True:\n",
    "    atm_menu(name)\n",
    "    option = input(\"Choose an option: \")  # User's option\n",
    "    if option == '1':\n",
    "        show_balance(balance)     # Show account balance\n",
    "    elif option == '2':\n",
    "        balance = deposit(balance)  # Deposit to account\n",
    "        show_balance(balance)\n",
    "    elif option == '3':\n",
    "        balance = withdraw(balance)  # Withdrawal from account\n",
    "        show_balance(balance)\n",
    "    elif option == '4':\n",
    "        logout(name)                 # Logout\n",
    "        break\n",
    "    else:\n",
    "        print(\"\\nInvalid option!\")           # Invalid option\n",
    "    "
   ]
  },
  {
   "cell_type": "markdown",
   "metadata": {},
   "source": [
    "# 16. Build a program that checks if a given string is a palindrome or not."
   ]
  },
  {
   "cell_type": "code",
   "execution_count": 89,
   "metadata": {},
   "outputs": [
    {
     "name": "stdout",
     "output_type": "stream",
     "text": [
      "Your string 'abhishek' is not a Palindrome\n",
      "\n",
      "Your string 'abcba' is Palindrome\n"
     ]
    }
   ],
   "source": [
    "def chk_palindrome(input_str):\n",
    "    \n",
    "    #Reverse the string\n",
    "    input_str_rev = input_str[: : -1]\n",
    "    \n",
    "    if input_str == input_str_rev:\n",
    "        return True\n",
    "    else :\n",
    "        return False\n",
    "\n",
    "#Test the above function\n",
    "a9 = 'abhishek'\n",
    "b9 = 'abcba'\n",
    "\n",
    "if chk_palindrome(a9):\n",
    "    print(\"Your string \\'\" + a9 + \"\\' is Palindrome\\n\")\n",
    "else :\n",
    "    print(\"Your string \\'\" + a9 + \"\\' is not a Palindrome\\n\")    \n",
    "    \n",
    "if chk_palindrome(b9):\n",
    "    print(\"Your string \\'\" + b9 + \"\\' is Palindrome\")\n",
    "else :\n",
    "    print(\"Your string \\'\" + b9 + \"\\' is not a Palindrome\")    "
   ]
  },
  {
   "cell_type": "markdown",
   "metadata": {},
   "source": [
    "# 17. Write a program that calculates the average of a list of numbers, excluding the smallest and largest values."
   ]
  },
  {
   "cell_type": "code",
   "execution_count": 5,
   "metadata": {},
   "outputs": [
    {
     "name": "stdout",
     "output_type": "stream",
     "text": [
      "The average of a list of numbers [1, 2, 3, 4, 6, 7, 19, 21, 34, 56, 90], excluding the smallest and largest values is : 16.89\n"
     ]
    }
   ],
   "source": [
    "input_list = [ 1,2,4,7,19,21,34,56,3,6,90]\n",
    "\n",
    "#sort the list \n",
    "input_list.sort()\n",
    "\n",
    "avg_num = round((sum(input_list) - input_list[0] - input_list[-1] )/ (len(input_list)-2) ,2)\n",
    "\n",
    "\n",
    "print(f\"The average of a list of numbers {input_list}, excluding the smallest and largest values is : {avg_num}\")"
   ]
  },
  {
   "cell_type": "markdown",
   "metadata": {},
   "source": [
    "# 18. Develop a program that converts a given temperature from Celsius to Fahrenheit."
   ]
  },
  {
   "cell_type": "markdown",
   "metadata": {},
   "source": [
    "Fahrenheit = (Celsius * 1.8) + 32 "
   ]
  },
  {
   "cell_type": "code",
   "execution_count": 11,
   "metadata": {},
   "outputs": [
    {
     "name": "stdout",
     "output_type": "stream",
     "text": [
      "Celsius 30 to Fahrenheit is 86.0\n",
      "Celsius 25 to Fahrenheit is 77.0\n",
      "Celsius 40 to Fahrenheit is 104.0\n"
     ]
    }
   ],
   "source": [
    "\n",
    "def c_to_f(c):\n",
    "     \n",
    "    f = round(((c * 1.8 ) + 32),2)\n",
    "    \n",
    "    return f\n",
    "\n",
    "# Test the above function\n",
    "n,m , k= 30 , 25 , 40\n",
    "\n",
    "print(f\"Celsius {n} to Fahrenheit is {c_to_f(n)}\")\n",
    "print(f\"Celsius {m} to Fahrenheit is {c_to_f(m)}\")\n",
    "print(f\"Celsius {k} to Fahrenheit is {c_to_f(k)}\")\n"
   ]
  },
  {
   "cell_type": "markdown",
   "metadata": {},
   "source": [
    "# 19. Create a program that simulates a basic calculator for addition, subtraction, multiplication, and division."
   ]
  },
  {
   "cell_type": "code",
   "execution_count": 1,
   "metadata": {},
   "outputs": [
    {
     "name": "stdout",
     "output_type": "stream",
     "text": [
      "Select operation:\n",
      "1. Add\n",
      "2. Subtract\n",
      "3. Multiply\n",
      "4. Divide\n",
      "5. Exit\n",
      "Enter choice (1/2/3/4/5): 1\n",
      "Enter first number: 45\n",
      "Enter second number: 67\n",
      "45.0 + 67.0 = 112.0\n",
      "Select operation:\n",
      "1. Add\n",
      "2. Subtract\n",
      "3. Multiply\n",
      "4. Divide\n",
      "5. Exit\n",
      "Enter choice (1/2/3/4/5): 5\n",
      "Exiting the calculator program.\n"
     ]
    }
   ],
   "source": [
    "# Functions for basic operation\n",
    "def add(x, y):\n",
    "    return x + y\n",
    "\n",
    "def subtract(x, y):\n",
    "    return x - y\n",
    "\n",
    "def multiply(x, y):\n",
    "    return x * y\n",
    "\n",
    "def divide(x, y):\n",
    "    if y != 0:\n",
    "        return x / y\n",
    "    else:\n",
    "        return \"Cannot divide by zero\"\n",
    "\n",
    "while True:\n",
    "    print(\"Select operation:\")\n",
    "    print(\"1. Add\")\n",
    "    print(\"2. Subtract\")\n",
    "    print(\"3. Multiply\")\n",
    "    print(\"4. Divide\")\n",
    "    print(\"5. Exit\")\n",
    "\n",
    "    choice = input(\"Enter choice (1/2/3/4/5): \")\n",
    "\n",
    "    if choice == '5':\n",
    "        print(\"Exiting the calculator program.\")\n",
    "        break\n",
    "\n",
    "    if choice in ('1', '2', '3', '4'):\n",
    "        num1 = float(input(\"Enter first number: \"))\n",
    "        num2 = float(input(\"Enter second number: \"))\n",
    "\n",
    "        if choice == '1':\n",
    "            print(f\"{num1} + {num2} = {add(num1, num2)}\")\n",
    "\n",
    "        elif choice == '2':\n",
    "            print(f\"{num1} - {num2} = {subtract(num1, num2)}\")\n",
    "\n",
    "        elif choice == '3':\n",
    "            print(f\"{num1} * {num2} = {multiply(num1, num2)}\")\n",
    "\n",
    "        elif choice == '4':\n",
    "            result = divide(num1, num2)\n",
    "            print(f\"{num1} / {num2} = {result}\")\n",
    "\n",
    "    else:\n",
    "        print(\"Invalid input. Please enter a valid option.\")\n"
   ]
  },
  {
   "cell_type": "markdown",
   "metadata": {},
   "source": [
    "# 20. Write a program that determines the roots of a cubic equation using the Cordano formula."
   ]
  },
  {
   "cell_type": "markdown",
   "metadata": {},
   "source": [
    "The Cardano's formula can be used to find the roots of a cubic equation. The general form of a cubic equation is:\n",
    "\n",
    "ax3 + bx2 + cx + d =0"
   ]
  },
  {
   "cell_type": "code",
   "execution_count": 12,
   "metadata": {},
   "outputs": [
    {
     "name": "stdout",
     "output_type": "stream",
     "text": [
      "[(-0.26556276060892386+0j), (0.025866548748565643+1.199502715028224j)]\n"
     ]
    }
   ],
   "source": [
    "import cmath  # Using cmath for complex roots\n",
    "\n",
    "def find_cubic_roots(a, b, c, d):\n",
    "    p = c / a - (b**2) / (3 * (a**2))\n",
    "    q = (2 * (b**3)) / (27 * (a**3)) - (b * c) / (3 * (a**2)) + d / a\n",
    "\n",
    "    discriminant = ((q**2) / 4) + ((p**3) / 27)\n",
    "    \n",
    "    if discriminant >= 0:\n",
    "        # Real roots\n",
    "        root1 = (-q / 2 + cmath.sqrt(discriminant))**(1/3)\n",
    "        root2 = (-q / 2 - cmath.sqrt(discriminant))**(1/3)\n",
    "        \n",
    "        roots = [root1 - b / (3 * a), root2 - b / (3 * a)]\n",
    "    else:\n",
    "        # Complex roots\n",
    "        root1 = (-q / 2 + cmath.sqrt(discriminant))**(1/3)\n",
    "        root2 = (-q / 2 - cmath.sqrt(discriminant))**(1/3)\n",
    "        \n",
    "        roots = [root1 - b / (3 * a), root2 - b / (3 * a)]\n",
    "\n",
    "    return roots\n",
    "\n",
    "#Test the above function\n",
    "\n",
    "a,b,c,d = 1,2,3,4\n",
    "\n",
    "# print the cubic roots\n",
    "print(find_cubic_roots(a,b,c,d))"
   ]
  },
  {
   "cell_type": "markdown",
   "metadata": {},
   "source": [
    "# Advanced Level:"
   ]
  },
  {
   "cell_type": "markdown",
   "metadata": {},
   "source": [
    "# 21. Create a program that calculates the income tax based on the user's income and tax brackets."
   ]
  },
  {
   "cell_type": "markdown",
   "metadata": {},
   "source": [
    "# Income Tax Slab                 Income Tax Rate\n",
    "----------------------------------------------------------------\n",
    "Up to ₹ 2,50,000\t                  Nil\n",
    "₹ 2,50,001 - ₹ 5,00,000\t        5% above ₹ 2,50,000\n",
    "₹ 5,00,001 - ₹ 7,50,000\t      ₹ 12,500 + 10% above ₹ 5,00,000\n",
    "₹ 7,50,001 - ₹ 10,00,000\t  ₹ 37,500 + 15% above ₹ 7,50,000\n",
    "₹ 10,00,001 - ₹ 12,50,000\t  ₹ 75,000 + 20% above ₹ 10,00,000\n",
    "₹ 12,50,001 - ₹ 15,00,000\t  ₹ 1,25,000 + 25% above ₹ 12,50,000\n",
    "Above ₹ 15,00,000\t          ₹ 1,87,500 + 30% above ₹ 15,00,000"
   ]
  },
  {
   "cell_type": "code",
   "execution_count": 1,
   "metadata": {},
   "outputs": [
    {
     "name": "stdout",
     "output_type": "stream",
     "text": [
      "Enter the Income in Rupees: 900000\n",
      "The Income Tax of Income Rs900000.0 is Rs 60000.00.\n"
     ]
    }
   ],
   "source": [
    "def calc_income_tax(income):\n",
    "    \n",
    "    if income <= 250000:\n",
    "        income_tax = 0\n",
    "    elif 250000 < income <= 500000 :\n",
    "        income_tax = round(((income - 250000) * .05),2)\n",
    "    elif 500000 < income <= 750000 :\n",
    "        income_tax = round(((income - 500000) * .1),2) + 12500\n",
    "    elif 750000 < income <= 1000000 :\n",
    "        income_tax = round(((income - 750000) * .15),2) + 37500\n",
    "    elif 1000000 < income <= 1250000 :\n",
    "        income_tax = round(((income - 1000000) * .2),2) + 75000\n",
    "    elif 1250000 < income <= 1500000 :\n",
    "        income_tax = round(((income - 1250000) * .25),2) + 125000\n",
    "    elif income > 1500000 :\n",
    "        income_tax = round(((income - 1500000) * .3),2) + 187500\n",
    "    \n",
    "    return income_tax\n",
    "        \n",
    "\n",
    "    # Input the income in rupees\n",
    "income = float(input(\"Enter the Income in Rupees: \"))\n",
    "    \n",
    "    #Calculate Income Tax\n",
    "income_tax = calc_income_tax(income)\n",
    "    \n",
    "    # Display the result\n",
    "print(f\"The Income Tax of Income Rs{income} is Rs {income_tax:.2f}\")\n",
    "    \n",
    "    \n",
    "   "
   ]
  },
  {
   "cell_type": "markdown",
   "metadata": {},
   "source": [
    "# 22. Write a program that simulates a rock-paper-scissors game against the computer."
   ]
  },
  {
   "cell_type": "markdown",
   "metadata": {},
   "source": [
    "The game pits a user against a computer with three selections available to each. The user will input their selection of rock, paper, or scissors. The computer will then choose from these options randomly. The winner is determined by reading in each players options and comparing them to the rules as follows: Rock beats scissors, Paper beats Rock, and Scissors beat Paper. The game will loop until the user is satisfied."
   ]
  },
  {
   "cell_type": "code",
   "execution_count": null,
   "metadata": {},
   "outputs": [
    {
     "name": "stdout",
     "output_type": "stream",
     "text": [
      "Make you Choice! (rock, paper, scissors): paper\n",
      "You chose paper computer chose paper\n",
      "Both players selected paper. It's a tie!\n",
      "Play again? (y/n): y\n",
      "Make you Choice! (rock, paper, scissors): scissors\n",
      "You chose scissors computer chose paper\n",
      "Scissors cuts paper! You win!\n",
      "Play again? (y/n): y\n",
      "Make you Choice! (rock, paper, scissors): rock\n",
      "You chose rock computer chose paper\n",
      "Paper covers rock! You lose.\n",
      "Play again? (y/n): y\n",
      "Make you Choice! (rock, paper, scissors): paper\n",
      "You chose paper computer chose scissors\n",
      "Scissors cuts paper! You lose.\n"
     ]
    }
   ],
   "source": [
    "import random\n",
    "\n",
    "while True:\n",
    "    user_choice = input(\"Make you Choice! (rock, paper, scissors): \")\n",
    "    choices = [\"rock\", \"paper\", \"scissors\"]\n",
    "    computer_choice = random.choice(choices)\n",
    "    print(\"You chose \"+user_choice+\" computer chose \"+computer_choice+\"\")\n",
    "\n",
    "    if user_choice == computer_choice:\n",
    "        print(\"Both players selected \"+user_choice+\". It's a tie!\")\n",
    "    elif user_choice == \"rock\":\n",
    "        if computer_choice == \"scissors\":\n",
    "            print(\"Rock smashes scissors! You win!\")\n",
    "        else:\n",
    "            print(\"Paper covers rock! You lose.\")\n",
    "    elif user_choice == \"paper\":\n",
    "        if computer_choice == \"rock\":\n",
    "            print(\"Paper covers rock! You win!\")\n",
    "        else:\n",
    "            print(\"Scissors cuts paper! You lose.\")\n",
    "    elif user_choice == \"scissors\":\n",
    "        if computer_choice == \"paper\":\n",
    "            print(\"Scissors cuts paper! You win!\")\n",
    "        else:\n",
    "            print(\"Rock smashes scissors! You lose.\")\n",
    "\n",
    "    play_again = input(\"Play again? (y/n): \")\n",
    "    if play_again.lower() != \"y\":\n",
    "        break"
   ]
  },
  {
   "cell_type": "markdown",
   "metadata": {},
   "source": [
    "# 23. Develop a program that generates a random password based on user preferences (length, complexity)."
   ]
  },
  {
   "cell_type": "code",
   "execution_count": 2,
   "metadata": {},
   "outputs": [
    {
     "name": "stdout",
     "output_type": "stream",
     "text": [
      "Hello , Welcome to password generator\n",
      "\n",
      "Enter the length of password: 7\n",
      "Your auto generated password:  IfB7Zly\n"
     ]
    }
   ],
   "source": [
    "# This is simple password generator of given length\n",
    "\n",
    "import string    # to use string operation\n",
    "import random    # To generate random\n",
    "\n",
    "# Greet the user and take the input for password length\n",
    "\n",
    "print(\"Hello , Welcome to password generator\")\n",
    "pLength = int(input('\\nEnter the length of password: '))\n",
    "\n",
    "# Define the data for password\n",
    "\n",
    "alphaChar = string.ascii_letters  # lower and upper character\n",
    "numChar   = string.digits         # digits ( 0 - 9)\n",
    "symbolChar = string.punctuation   # all symbols\n",
    "\n",
    "# combine all the data for the password\n",
    "\n",
    "allChar =  alphaChar + numChar  + symbolChar  # This is one single string for all password data\n",
    "\n",
    "# create a list for desired length\n",
    "\n",
    "pList = random.sample(allChar,pLength)\n",
    "\n",
    "# Create a password by joining the letters from above list\n",
    "\n",
    "password = \"\".join(pList)\n",
    "\n",
    "print(\"Your auto generated password: \" , password)"
   ]
  },
  {
   "cell_type": "markdown",
   "metadata": {},
   "source": [
    "# 24. Create a program that implements a simple text-based adventure game with branching scenarios."
   ]
  },
  {
   "cell_type": "markdown",
   "metadata": {},
   "source": [
    "In my game the goal is survival, you are a human character that needs to survive until rescue arrives in 15 days. The character starts with 100 health points and 0 hunger and 0 thirst points. The player needs to keep their hunger and thirst points down while keeping their health points up. You are tasked with a random challenge out of 5 challenges for 15 rounds or days and you are given a yes or no question to complete the task. Every task either hurts or helps your health, hunger and thirst until you die of lack of health, food or water. Some of the outcomes are not randomized after the answer so that the character has easy ways to gain back health, hunger and thirst but other challenges have alternate outcomes no matter your answer. If you make it to day 15 you are rescued by a helicopter and the game ends, if your health reaches 0, thirst reaches 100 or hunger reaches 100 you die and the game ends. You can also exit the game whenever you would like by typing exit during the challenge prompt."
   ]
  },
  {
   "cell_type": "code",
   "execution_count": 3,
   "metadata": {},
   "outputs": [
    {
     "name": "stdout",
     "output_type": "stream",
     "text": [
      "Welcome to the Survival Game!\n",
      "The objective of the game is to survive as long as possible.\n",
      "You will be given a series of challenges and you must complete them in order to survive.\n",
      "Rescue will arrive in 15 days, can you make it until rescue arrives?\n",
      "Good luck!\n",
      "\n",
      "Day 1\n",
      "Health: 100\n",
      "Hunger: 0\n",
      "Thirst: 0\n",
      "---\n",
      "You come across a campfire. Do you warm yourself by the fire?\n",
      "(yes/no/exit): yes\n",
      "You warm yourself by the fire and feel rejuvenated.\n",
      "\n",
      "\n",
      "Day 2\n",
      "Health: 100\n",
      "Hunger: 10\n",
      "Thirst: 15\n",
      "---\n",
      "You come across a river. Do you drink from it?\n",
      "(yes/no/exit): no\n",
      "You decide not to drink from the river.\n",
      "Game Over! You survived for 1 days.\n"
     ]
    }
   ],
   "source": [
    "import random\n",
    "\n",
    "print(\"Welcome to the Survival Game!\")\n",
    "print(\"The objective of the game is to survive as long as possible.\")\n",
    "print(\"You will be given a series of challenges and you must complete them in order to survive.\")\n",
    "print(\"Rescue will arrive in 15 days, can you make it until rescue arrives?\")\n",
    "print(\"Good luck!\\n\")\n",
    "\n",
    "health = 100\n",
    "hunger = 0\n",
    "thirst = 0\n",
    "days = 0\n",
    "\n",
    "while health > 0 and days < 15:\n",
    "    print(\"Day\", days + 1)\n",
    "    print(\"Health:\", health)\n",
    "    print(\"Hunger:\", hunger)\n",
    "    print(\"Thirst:\", thirst)\n",
    "    print(\"---\")\n",
    "\n",
    "    # Increase hunger and thirst levels\n",
    "    hunger += 10\n",
    "    thirst += 15\n",
    "\n",
    "    # Check if hunger or thirst have reached critical levels\n",
    "    if hunger >= 100 or thirst >= 100:\n",
    "        print(\"You have died of starvation or dehydration.\")\n",
    "        break\n",
    "\n",
    "    # Generate a random challenge\n",
    "    challenge = random.randint(1, 5)\n",
    "\n",
    "    if challenge == 1:\n",
    "        print(\"You come across a river. Do you drink from it?\")\n",
    "        choice = input(\"(yes/no/exit): \")\n",
    "        if choice == \"yes\":\n",
    "            thirst = max(0, thirst - 30)\n",
    "            print(\"You drink from the river and quench your thirst.\")\n",
    "        elif choice == \"no\":\n",
    "                print(\"You decide not to drink from the river.\")\n",
    "                break\n",
    "        elif choice == \"exit\":\n",
    "                print(\"Goodbye!\")\n",
    "                exit()\n",
    "        else:\n",
    "            print(\"Invalid answer, please enter 'yes', 'no', or 'exit'\")\n",
    "\n",
    "\n",
    "    elif challenge == 2:\n",
    "        print(\"You come across a berry bush. Do you eat some berries?\")\n",
    "        choice = input(\"(yes/no/exit): \")\n",
    "        if choice == \"yes\":\n",
    "            hunger = max(0, hunger - 20)\n",
    "            print(\"You eat some berries and quell your hunger.\")\n",
    "        elif choice == \"no\":\n",
    "            print(\"You decide not to eat the berries.\")\n",
    "            break\n",
    "        elif choice == \"exit\":\n",
    "            print(\"Goodbye!\")\n",
    "            exit()\n",
    "        else:\n",
    "            print(\"Invalid answer, please enter 'yes', 'no', or 'exit'\")\n",
    "\n",
    "\n",
    "    elif challenge == 3:\n",
    "        print(\"You come across a pack of wolves. Do you run away?\")\n",
    "        while True:\n",
    "            choice = input(\"(yes/no/exit): \")\n",
    "            if choice == \"yes\":\n",
    "                health -= 10\n",
    "                print(\"You run away from the pack of wolves, but you get injured in the process.\")\n",
    "                break\n",
    "            elif choice == \"no\":\n",
    "                print(\"You decide to stand your ground and fight the pack of wolves.\")\n",
    "                fight = random.randint(1, 2)\n",
    "                if fight == 1:\n",
    "                    print(\"You manage to defeat the pack of wolves and escape unscathed.\")\n",
    "                else:\n",
    "                    health -= 30\n",
    "                    print(\"You are unable to defeat the pack of wolves and are badly injured.\")\n",
    "                    break\n",
    "            elif choice == \"exit\":\n",
    "                print(\"Goodbye!\")\n",
    "                exit()\n",
    "            else:\n",
    "                print(\"Invalid answer, please enter 'yes', 'no', or 'exit'\")\n",
    "\n",
    "    elif challenge == 4:\n",
    "        print(\"You come across a cave. Do you enter it?\")\n",
    "        choice = input(\"(yes/no/exit): \")\n",
    "        if choice == \"yes\":\n",
    "            print(\"You enter the cave and find a stash of food and water.\")\n",
    "            hunger = max(0, hunger - 30)\n",
    "            thirst = max(0, thirst - 30)\n",
    "        elif choice == \"no\":\n",
    "            print(\"You decide not to enter the cave.\")\n",
    "        elif choice == \"exit\":\n",
    "            print(\"Goodbye!\")\n",
    "        else:\n",
    "            (\"Invalid answer, please enter 'yes', 'no', or 'exit'\")\n",
    "\n",
    "\n",
    "    elif challenge == 5:\n",
    "        print(\"You come across a campfire. Do you warm yourself by the fire?\")\n",
    "        choice = input(\"(yes/no/exit): \")\n",
    "        if choice == \"yes\":\n",
    "            print(\"You warm yourself by the fire and feel rejuvenated.\")\n",
    "            health = min(100, health + 20)\n",
    "        elif choice == \"no\":\n",
    "            print(\"You decide not to warm yourself by the fire.\")\n",
    "        elif choice == \"exit\":\n",
    "            print(\"Goodbye!\")\n",
    "        else:\n",
    "            print(\"Invalid answer, please enter 'yes', 'no', or 'exit'\")\n",
    "\n",
    "\n",
    "    days += 1\n",
    "    print(\"\\n\")\n",
    "\n",
    "    if days == 15:\n",
    "        \n",
    "        print(\"                    ░░░░░░░░░░░░░░░░░░░░  ░░░░  ░░░░░░░░░░░░░░▒▒               \")\n",
    "        print(\"            ▓▓▓▓▓▓▓▓▓▓▒▒▓▓▓▓▓▓▒▒▓▓▒▒▓▓▓▓▓▓▓▓▓▓▓▓▓▓▓▓▓▓▓▓▓▓                     \")\n",
    "        print(\"                                ░░▓▓                                           \")\n",
    "        print(\"                            ░░▒▒▒▒▓▓▓▓░░                ▓▓░░    ░░▒▒           \")\n",
    "        print(\"                  ░░  ░░▒▒▒▒▒▒▓▓▒▒  ░░▒▒▒▒▒▒░░          ░░▓▓  ░░▒▒▒▒           \")\n",
    "        print(\"                  ░░▒▒▒▒▒▒▓▓▒▒▓▓▒▒▒▒▒▒▒▒▓▓▒▒▓▓░░          ▒▒▓▓░░▓▓             \")\n",
    "        print(\"                ░░▒▒▒▒▒▒▒▒▓▓▓▓▓▓██▓▓▓▓▓▓▓▓▓▓▓▓  ░░▒▒░░▒▒▒▒▒▒▓▓▓▓               \")\n",
    "        print(\"            ░░░░▒▒▒▒▒▒▓▓▒▒░░░░▒▒▒▒▒▒▒▒▓▓▓▓▓▓▒▒▒▒▒▒▒▒▓▓▓▓▓▓▓▓██▓▓░░             \")\n",
    "        print(\"          ░░░░░░▒▒▓▓░░░░▒▒▒▒▒▒▒▒▒▒▓▓▓▓▓▓▓▓▓▓▓▓▓▓▓▓▓▓▒▒▒▒▒▒░░    ▓▓░░           \")\n",
    "        print(\"        ░░▒▒▓▓▒▒▓▓▓▓▒▒▒▒▒▒▒▒▒▒▒▒▓▓▓▓▓▓▓▓▓▓░░                      ▓▓░░         \")\n",
    "        print(\"        ░░▓▓▓▓░░▒▒▒▒▒▒▒▒▒▒▒▒▒▒▒▒▓▓▓▓▒▒                            ▒▒░░         \")\n",
    "        print(\"            ▓▓▒▒▓▓▓▓▓▓▓▓▓▓██████▓▓░░                                           \")\n",
    "        print(\"              ██░░▓▓▓▓░░░░  ██░░  ░░██                                         \")\n",
    "        print(\"          ▓▓▓▓██▓▓▓▓██▓▓▓▓▓▓██▓▓▓▓  ▒▒░░▓▓                                     \")\n",
    "        print(\"                ▒▒▒▒▒▒▒▒▒▒▒▒▒▒▒▒▒▒▓▓▒▒░░░░                                     \")\n",
    "        print(\"                                                                               \")\n",
    "        print(\"Congratulations! A helicopter has arrived and is taking you to safety.\")\n",
    "        break\n",
    "\n",
    "\n",
    "print(\"Game Over! You survived for\", days, \"days.\")\n",
    "\n"
   ]
  },
  {
   "cell_type": "markdown",
   "metadata": {},
   "source": [
    "# 25. Build a program that solves a linear equation  for x, considering different cases."
   ]
  },
  {
   "cell_type": "markdown",
   "metadata": {},
   "source": [
    "A linear equation in one variable has the form ax+b=0\n",
    "x = -b/a"
   ]
  },
  {
   "cell_type": "code",
   "execution_count": 9,
   "metadata": {},
   "outputs": [
    {
     "name": "stdout",
     "output_type": "stream",
     "text": [
      "Enter the coefficient of x i.e a :4\n",
      "Enter the Real part b :8\n",
      "Given linearr equation ax+b =0 where a = 4.0 and b = 8.0  : The solution is x = -2.0\n"
     ]
    }
   ],
   "source": [
    "def solve_linear_equation(a, b):\n",
    "    if a == 0:\n",
    "        if b == 0:\n",
    "            return \"Infinite solutions (identity equation)\"\n",
    "        else:\n",
    "            return \"No solution (contradiction)\"\n",
    "    else:\n",
    "        x = -b / a\n",
    "        return f\"The solution is x = {x}\"\n",
    "\n",
    "\n",
    "# Test the above function\n",
    "a   = float(input(\"Enter the coefficient of x i.e a :\"))\n",
    "b   = float(input(\"Enter the Real part b :\"))\n",
    "\n",
    "solution = solve_linear_equation(a,b)\n",
    "\n",
    "print(f\"Given linearr equation ax+b =0 where a = {a} and b = {b}  : {solution}\")"
   ]
  },
  {
   "cell_type": "markdown",
   "metadata": {},
   "source": [
    "# 26. Write a program that simulates a basic quiz game with multiple-choice questions and scoring."
   ]
  },
  {
   "cell_type": "code",
   "execution_count": 13,
   "metadata": {},
   "outputs": [
    {
     "name": "stdout",
     "output_type": "stream",
     "text": [
      "##----------WELCOME TO ABHISHEK'S QUIZ GAME----------##\n",
      "\n",
      "\n",
      "1. Play the quiz game\n",
      "2. Exit the Game\n",
      "Enter your choice: 1\n",
      "What is your name? abhishek\n",
      "\n",
      "How many question do you want?\n",
      "Choose any number between 1 to 4 : 4\n",
      "******************************************************\n",
      "\n",
      "Welcome abhishek to this MCQ quiz game\n",
      "\n",
      "You want 4 Question for the quiz\n",
      "******************************************************\n",
      "Q# 1 +++++++++++++++++++++++++++++\n",
      "Which of the following is the smallest unit of data in a computer?\n",
      "a) Bit\n",
      "b) KB\n",
      "c) Nibble\n",
      "d) Byte\n",
      "\n",
      " Enter your Answer : a\n",
      "\n",
      "WAIT.......YOUR ANSWER IS BEING CHECKED\n",
      "\n",
      "YOUR ANSWER :  a  IS CORRECT \n",
      "\n",
      "Your Total Score is : 1\n",
      "***************************************************\n",
      "$$$$$$$$$$$$$$$$$$$$$$\n",
      "Q# 2 +++++++++++++++++++++++++++++\n",
      "What is the full form of CPU ?\n",
      "a) Computer Processing Unit\n",
      "b) Computer Principle Unit\n",
      "c) Central Processing Unit\n",
      "d) Control Processing Unit\n",
      "\n",
      " Enter your Answer : c\n",
      "\n",
      "WAIT.......YOUR ANSWER IS BEING CHECKED\n",
      "\n",
      "YOUR ANSWER :  c  IS CORRECT \n",
      "\n",
      "Your Total Score is : 2\n",
      "***************************************************\n",
      "$$$$$$$$$$$$$$$$$$$$$$\n",
      "Q# 3 +++++++++++++++++++++++++++++\n",
      "Who is the father of Computers?\n",
      "a) James Gosling\n",
      "b) Charles Babbage\n",
      "c) Dennis Ritchie\n",
      "d) Bjarne Stroustrup\n",
      "\n",
      " Enter your Answer : b\n",
      "\n",
      "WAIT.......YOUR ANSWER IS BEING CHECKED\n",
      "\n",
      "YOUR ANSWER :  b  IS CORRECT \n",
      "\n",
      "Your Total Score is : 3\n",
      "***************************************************\n",
      "$$$$$$$$$$$$$$$$$$$$$$\n",
      "Q# 4 +++++++++++++++++++++++++++++\n",
      "Which of the following computer language is written in binary codes only ?\n",
      "a) pascal\n",
      "b) machine language\n",
      "c) C\n",
      "d) C#\n",
      "\n",
      " Enter your Answer : a\n",
      "\n",
      "WAIT.......YOUR ANSWER IS BEING CHECKED\n",
      "\n",
      "YOUR ANSWER :  a  IS WRONG \n",
      "\n",
      "Your Total Score is : 3\n",
      "***************************************************\n",
      "$$$$$$$$$$$$$$$$$$$$$$\n"
     ]
    }
   ],
   "source": [
    "# Question Bank\n",
    "\n",
    "quiz_question = {\n",
    "    1: {\n",
    "        \"question\": \"Who is the father of Computers?\",\n",
    "        \"options\": [\n",
    "            \"a) James Gosling\",\n",
    "            \"b) Charles Babbage\",\n",
    "            \"c) Dennis Ritchie\",\n",
    "            \"d) Bjarne Stroustrup\"\n",
    "        ],\n",
    "        \"answer\": \"b\"\n",
    "    },\n",
    "    2: {\n",
    "        \"question\": \"What is the full form of CPU ?\",\n",
    "        \"options\": [\n",
    "            \"a) Computer Processing Unit\",\n",
    "            \"b) Computer Principle Unit\",\n",
    "            \"c) Central Processing Unit\",\n",
    "            \"d) Control Processing Unit\"\n",
    "        ],\n",
    "        \"answer\": \"c\"\n",
    "    },\n",
    "    3: {\n",
    "        \"question\": \"Which of the following computer language is written in binary codes only ?\",\n",
    "        \"options\": [\n",
    "            \"a) pascal\",\n",
    "            \"b) machine language\",\n",
    "            \"c) C\",\n",
    "            \"d) C#\"\n",
    "        ],\n",
    "        \"answer\": \"b\"\n",
    "    },\n",
    "    4: {\n",
    "        \"question\": \"Which of the following is the smallest unit of data in a computer?\",\n",
    "        \"options\": [\n",
    "            \"a) Bit\",\n",
    "            \"b) KB\",\n",
    "            \"c) Nibble\",\n",
    "            \"d) Byte\"\n",
    "        ],\n",
    "        \"answer\": \"a\"\n",
    "    },\n",
    "}\n",
    "\n",
    "\n",
    "# Import the following\n",
    "\n",
    "import sys       # To Exit the program\n",
    "import random    # To generate random number\n",
    "\n",
    "# Environment setup\n",
    "\n",
    "total_score = 0             # To Track User's result\n",
    "\n",
    "# Define the function once your quiz game starts\n",
    "def my_quiz_game():\n",
    "    print(\"##----------WELCOME TO ABHISHEK'S QUIZ GAME----------##\")\n",
    "    print(\"\\n\")\n",
    "    my_quiz_menu_display()    # Display the menu\n",
    "    # Take user input to proceed\n",
    "    while True:\n",
    "        choice = input(\"Enter your choice: \")\n",
    "        if choice == '1':\n",
    "            my_quiz_play()    # Play the quiz\n",
    "            break\n",
    "        elif choice == '2':\n",
    "            my_quiz_exit()    # Terminate the quiz\n",
    "            break\n",
    "        else:\n",
    "            print(\"You have choosen wrong choice, please use '1' or '2' \")\n",
    "            continue\n",
    "\n",
    "            \n",
    "            # Function to display the quiz menu\n",
    "\n",
    "\n",
    "def my_quiz_menu_display():\n",
    "    print(\"1. Play the quiz game\")\n",
    "    print(\"2. Exit the Game\")\n",
    "\n",
    "# Exit the quiz\n",
    "\n",
    "\n",
    "def my_quiz_exit():\n",
    "    print(\"Going to exit the game\")\n",
    "\n",
    "# Play the quiz\n",
    "\n",
    "\n",
    "def my_quiz_play():\n",
    "    # Take the different input from users\n",
    "    user_name = input(\"What is your name? \")\n",
    "    user_choice_num_of_q = input(\n",
    "        \"\\nHow many question do you want?\\nChoose any number between 1 to 4 : \")\n",
    "\n",
    "    quiz_welcome(user_name, user_choice_num_of_q)  # Welcome the user                \n",
    "\n",
    "    quiz_play(user_choice_num_of_q)\n",
    "\n",
    "# Function for quiz play\n",
    "def quiz_play(user_choice_num_of_q,):\n",
    "    global quiz_question\n",
    "    for i in range(int(user_choice_num_of_q)):\n",
    "        print(\"Q#\", i+1, end=' ')\n",
    "        # Display question info\n",
    "        # Display question infront of user and stored the index of the question\n",
    "        q_index = displayQuestion(quiz_question)\n",
    "        user_answer = input(\"\\n Enter your Answer : \")\n",
    "        checkAnswer(q_index, user_answer, quiz_question)\n",
    "        # Remove the question at given index from question bank if already answered\n",
    "        quiz_question.pop(q_index)\n",
    "\n",
    "        print(\"$$$$$$$$$$$$$$$$$$$$$$\")\n",
    "\n",
    "# Check answer\n",
    "\n",
    "\n",
    "def checkAnswer(q_index, user_answer, quiz_question):\n",
    "    print(\"\\nWAIT.......YOUR ANSWER IS BEING CHECKED\")\n",
    "    correct_answer = quiz_question[q_index][\"answer\"]\n",
    "    global total_score\n",
    "    # Check the 1st position of user's answer by captilizing it\n",
    "    if user_answer == correct_answer:\n",
    "        print(\"\\nYOUR ANSWER : \",\n",
    "              quiz_question[q_index][\"answer\"], \" IS CORRECT \")\n",
    "        total_score += 1\n",
    "    else:\n",
    "        print(\"\\nYOUR ANSWER : \", user_answer, \" IS WRONG \")\n",
    "\n",
    "    print(\"\\nYour Total Score is :\", total_score)\n",
    "    print(\"***************************************************\")\n",
    "\n",
    "# Display question info\n",
    "def displayQuestion(quiz_question):\n",
    "    print(\"+++++++++++++++++++++++++++++\")\n",
    "    # If question bank isnot empty\n",
    "    if len(quiz_question) > 0:\n",
    "        # Get the list of keys of dictioanry\n",
    "        q_list_key = list(quiz_question.keys())\n",
    "\n",
    "        # Get random key_questions from question bank\n",
    "\n",
    "        random_i = random.choice(q_list_key)\n",
    "\n",
    "        # Print the question\n",
    "        print(quiz_question[random_i][\"question\"])      # Print question\n",
    "        # Print the options\n",
    "        for opt in range(len(quiz_question[random_i][\"options\"])):\n",
    "            print(quiz_question[random_i][\"options\"][opt])\n",
    "        return random_i  # Return the question index \"\"\"\n",
    "\n",
    "    else:\n",
    "        print(\"No more question\")\n",
    "\n",
    "        \n",
    "# Display the welcome message and user's choice\n",
    "\n",
    "\n",
    "def quiz_welcome(user_name, user_choice_num_of_q):\n",
    "    print(\"******************************************************\")\n",
    "    print(\"\\nWelcome\", user_name, \"to this MCQ quiz game\")\n",
    "    print(\"\\nYou want\", user_choice_num_of_q, \"Question for the quiz\")\n",
    "    print(\"******************************************************\")\n",
    "\n",
    "\n",
    "# Call the quiz game\n",
    "my_quiz_game()\n"
   ]
  },
  {
   "cell_type": "markdown",
   "metadata": {},
   "source": [
    "# 27. Develop a program that determines whether a given year is a prime number or not."
   ]
  },
  {
   "cell_type": "code",
   "execution_count": 5,
   "metadata": {},
   "outputs": [
    {
     "name": "stdout",
     "output_type": "stream",
     "text": [
      "The number 11 is PRIME\n",
      "\n",
      "The number 40 is not PRIME\n",
      "\n"
     ]
    }
   ],
   "source": [
    "# Function to check whether given number n is prime or not\n",
    "def chk_prime(n):\n",
    "    \n",
    "    if n < 2:\n",
    "        return False\n",
    "    else :\n",
    "        if n == 2 :\n",
    "            return True\n",
    "        else :\n",
    "            for i in range(int(n/2) + 1 ):\n",
    "                if i > 1:\n",
    "                    if n % i == 0 :\n",
    "                        return False\n",
    "                    \n",
    "            return True                     \n",
    "                \n",
    "#Test the above function\n",
    "n , m  = 11 , 40\n",
    "\n",
    "if chk_prime(n):\n",
    "    print(f\"The number {n} is PRIME\\n\")\n",
    "else :\n",
    "    print(f\"The number {n} is not PRIME\\n\")\n",
    "    \n",
    "if chk_prime(m):\n",
    "    print(f\"The number {m} is PRIME\\n\")\n",
    "else :\n",
    "    print(f\"The number {m} is not PRIME\\n\")"
   ]
  },
  {
   "cell_type": "code",
   "execution_count": 20,
   "metadata": {},
   "outputs": [
    {
     "name": "stdout",
     "output_type": "stream",
     "text": [
      "The Year 2020 is Leap Year\n",
      "\n",
      "The Year 2023 is not a Leap Year\n",
      "\n",
      "The Year 2100 is not a Leap Year\n",
      "\n"
     ]
    }
   ],
   "source": [
    "def chk_leap_year(n):\n",
    "    if n % 100 == 0 :\n",
    "        if n % 400 == 0:\n",
    "            return True\n",
    "        else :\n",
    "            return False\n",
    "    else :\n",
    "        if n % 4 == 0:\n",
    "            return True\n",
    "        else :\n",
    "            return False\n",
    "        \n",
    "#Test above function\n",
    "n = 2020\n",
    "m = 2100\n",
    "k = 2023\n",
    "\n",
    "if chk_leap_year(n):\n",
    "    print(f\"The Year {n} is Leap Year\\n\")\n",
    "else :\n",
    "    print(f\"The Year {n} is not a Leap Year\\n\")\n",
    "    \n",
    "if chk_leap_year(k):\n",
    "    print(f\"The Year {k} is Leap Year\\n\")\n",
    "else :\n",
    "    print(f\"The Year {k} is not a Leap Year\\n\")\n",
    "\n",
    "if chk_leap_year(m):\n",
    "    print(f\"The Year {m} is Leap Year\\n\")\n",
    "else :\n",
    "    print(f\"The Year {m} is not a Leap Year\\n\")"
   ]
  },
  {
   "cell_type": "markdown",
   "metadata": {},
   "source": [
    "# 28. Create a program that sorts three numbers in ascending order using conditional statements."
   ]
  },
  {
   "cell_type": "code",
   "execution_count": 18,
   "metadata": {},
   "outputs": [
    {
     "name": "stdout",
     "output_type": "stream",
     "text": [
      "The sorted list of three numbers 6 , 17 and 5 is : [5, 6, 17]\n"
     ]
    }
   ],
   "source": [
    "def sort_num(a,b,c):\n",
    "    \n",
    "    result_list = []     # To store the result\n",
    "    \n",
    "    if a > b:\n",
    "        if  b > c :\n",
    "            result_list.append(c)\n",
    "            result_list.append(b)\n",
    "            result_list.append(a)\n",
    "        else :\n",
    "            result_list.append(b)\n",
    "            if a > c :\n",
    "                result_list.append(c)\n",
    "                result_list.append(a)\n",
    "            else :\n",
    "                result_list.append(a)\n",
    "                result_list.append(c)\n",
    "    elif b > c :\n",
    "        if a > c:\n",
    "            result_list.append(c)\n",
    "            result_list.append(a)                 \n",
    "               \n",
    "        else :\n",
    "            result_list.append(a)\n",
    "            result_list.append(c)\n",
    "            \n",
    "        result_list.append(b)\n",
    "            \n",
    "    return result_list       \n",
    "                \n",
    "a,b,c = 6 , 17 ,5\n",
    "\n",
    "print(f\"The sorted list of three numbers {a} , {b} and {c} is : {sort_num(a,b,c)}\")\n",
    "                \n"
   ]
  },
  {
   "cell_type": "markdown",
   "metadata": {},
   "source": [
    "# 29. Build a program that determines the roots of a quartic equation using numerical methods."
   ]
  },
  {
   "cell_type": "markdown",
   "metadata": {},
   "source": [
    "Given a quadratic equation in the form ax2 + bx + c\n",
    "\n",
    "D = (b2 – 4ac) \n",
    "\n",
    "If D > 0: The roots are real and unequal.The roots are {-b + ?(b2 – 4ac)}/2a and {-b – ?(b2 – 4ac)}/2a.\n",
    "\n",
    "If D = 0: The roots are real and equal.The roots are (-b/2a).\n",
    "\n",
    "If D < 0: The roots are imaginary and unequal.The roots are {-b ± ?(-1*-D)} / 2a = {-b ± i?(-D)} / 2a = {-b ± i?-(b2 – 4ac)}/2a where i = ?-1.\n",
    "      .\n"
   ]
  },
  {
   "cell_type": "code",
   "execution_count": 16,
   "metadata": {},
   "outputs": [
    {
     "name": "stdout",
     "output_type": "stream",
     "text": [
      "Roots are real and different \n",
      "5.0\n",
      "2.0\n"
     ]
    }
   ],
   "source": [
    "# Python program to find roots\n",
    "# of a quadratic equation\n",
    "import math\n",
    " \n",
    "# Prints roots of quadratic equation\n",
    "# ax*2 + bx + x\n",
    "def findRoots(a, b, c):\n",
    " \n",
    "    # If a is 0, then equation is not quadratic, but linear\n",
    "    if a == 0:\n",
    "        print(\"Invalid\")\n",
    "        return -1\n",
    "    d = b * b - 4 * a * c                      # Discriminant\n",
    "    sqrt_val = math.sqrt(abs(d))\n",
    " \n",
    "    if d > 0:\n",
    "        print(\"Roots are real and different \")\n",
    "        print((-b + sqrt_val)/(2 * a))\n",
    "        print((-b - sqrt_val)/(2 * a))\n",
    "    elif d == 0:\n",
    "        print(\"Roots are real and same\")\n",
    "        print(-b / (2*a))\n",
    "    else:  # d<0\n",
    "        print(\"Roots are complex\")\n",
    "        print(- b / (2*a), \" + i\", sqrt_val / (2 * a))\n",
    "        print(- b / (2*a), \" - i\", sqrt_val / (2 * a))\n",
    "        \n",
    " \n",
    "\n",
    "# Test the above function\n",
    "\n",
    "a , b , c = 1 , -7 , 10\n",
    "\n",
    "findRoots(a, b, c)"
   ]
  },
  {
   "cell_type": "markdown",
   "metadata": {},
   "source": [
    "# 30. Write a program that calculates the BMI (Body Mass Index) and  provides health recommendations based on the user's input."
   ]
  },
  {
   "cell_type": "markdown",
   "metadata": {},
   "source": [
    "If your BMI is less than 18.5, it falls within the underweight range.\n",
    "If your BMI is 18.5 to 24.9, it falls within the Healthy Weight range.\n",
    "If your BMI is 25.0 to 29.9, it falls within the overweight range.\n",
    "If your BMI is 30.0 or higher, it falls within the obese range."
   ]
  },
  {
   "cell_type": "code",
   "execution_count": 13,
   "metadata": {},
   "outputs": [
    {
     "name": "stdout",
     "output_type": "stream",
     "text": [
      "Enter the weight in kilograms: 68\n",
      "Enter the height in meters: 1.54\n",
      "The person's BMI is 28.67, and the recomendation for the category Overweight is : You need to reduce your weight \n"
     ]
    }
   ],
   "source": [
    "# Input the person's weight in kilograms and height in meters\n",
    "weight = float(input(\"Enter the weight in kilograms: \"))\n",
    "height = float(input(\"Enter the height in meters: \"))\n",
    "\n",
    "# Calculate BMI\n",
    "bmi = weight / (height**2)\n",
    "\n",
    "# Categorize BMI using elif statements\n",
    "if bmi < 18.5:\n",
    "    category = \"Underweight\"\n",
    "    recommendation = \"Increase your weight\"\n",
    "elif 18.5 <= bmi < 24.9:\n",
    "    category = \"Normal\"\n",
    "    recommendation = \"Your weight is optimal\"\n",
    "elif 25 <= bmi < 29.9:\n",
    "    category = \"Overweight\"\n",
    "    recommendation = \"You need to reduce your weight \"\n",
    "else:\n",
    "    category = \"Obese\"\n",
    "    recommendation = \"You need to see the doctor soon\"\n",
    "\n",
    "# Display the result\n",
    "print(f\"The person's BMI is {bmi:.2f}, and the recomendation for the category {category} is : {recommendation}\")\n"
   ]
  },
  {
   "cell_type": "markdown",
   "metadata": {},
   "source": [
    "# Challenge Level:"
   ]
  },
  {
   "cell_type": "markdown",
   "metadata": {},
   "source": [
    "# 31. Create a program that validates a password based on complexity rules (length, characters, etc.)."
   ]
  },
  {
   "cell_type": "code",
   "execution_count": null,
   "metadata": {},
   "outputs": [],
   "source": [
    "Password vlidation rules:   A valid password should meet the following requirements:\n",
    "\n",
    " -Have more than 8 characters\n",
    " -Contains a capital letter\n",
    " -Contains a lowercase\n",
    " -Contains a number\n",
    " -Contains an underscore\n",
    "\n",
    "Return True for Valid password and False for Not Valid password"
   ]
  },
  {
   "cell_type": "code",
   "execution_count": null,
   "metadata": {},
   "outputs": [
    {
     "name": "stdout",
     "output_type": "stream",
     "text": [
      "\n",
      "Please inter your password to validate : abhishek\n",
      "Your password : abhishek is not valid\n",
      "\n",
      "Please inter your password to validate : Abhishe2_s\n",
      "\n",
      "Your password : Abhishe2_s is valid\n",
      "\n",
      "Please inter your password to validate : a234\n",
      "Your password : a234 is not valid\n",
      "\n",
      "Please inter your password to validate : 234578900989898\n",
      "Your password : 234578900989898 is not valid\n"
     ]
    }
   ],
   "source": [
    "def valid_password_chk(password):\n",
    "    \n",
    "    # password length check\n",
    "    if len(password) < 8:\n",
    "        return False\n",
    "    \n",
    "    # Contains a capital letter\n",
    "    if password.isupper() or password.islower():          # check if all letters are capital or all letters are small\n",
    "        return False\n",
    "    \n",
    "    # Check for at least one uppercase letter\n",
    "    if not any(x.isupper() for x in password):\n",
    "        return False\n",
    "    \n",
    "    # Check for at least one uppercase letter\n",
    "    if not any(x.islower() for x in password):\n",
    "        return False\n",
    "    \n",
    "    #Check for a number\n",
    "    if not any(x.isdigit() for x in password):\n",
    "        return False\n",
    "    \n",
    "    #Check for underscore\n",
    "    if not any(x == '_' for x in password):\n",
    "        return False\n",
    "    \n",
    "    #Return for Valid password\n",
    "    return True\n",
    "\n",
    "\n",
    "while True:\n",
    "    password = input(\"\\nPlease inter your password to validate : \")\n",
    "    \n",
    "    result = valid_password_chk(password)\n",
    "    \n",
    "    if result:\n",
    "        print(f\"\\nYour password : {password} is valid\")\n",
    "    else :\n",
    "        print(f\"Your password : {password} is not valid\")\n",
    "       "
   ]
  },
  {
   "cell_type": "markdown",
   "metadata": {},
   "source": [
    "# 32. Develop a program that performs matrix addition and subtraction based on user input."
   ]
  },
  {
   "cell_type": "code",
   "execution_count": null,
   "metadata": {},
   "outputs": [],
   "source": [
    "Let's suppose we have matrix\n",
    "    \n",
    "A = [[4 ,8] , [3, 7]] , B = [[1, 0] , [5 ,2 ]]\n",
    "\n",
    "Addition:\n",
    "    \n",
    "A + B = [[5, 8] , [8 , 9]]\n",
    "\n",
    "Subtraction :\n",
    "    \n",
    "A- B  = [[3 , 8] , [-2 , 5]]\n",
    "\n",
    "Here : user gives the input of operation : addition or subtraction.\n",
    "        \n",
    "As long as the dimensions of two matrices are the same, we can add and subtract them"
   ]
  },
  {
   "cell_type": "code",
   "execution_count": 3,
   "metadata": {},
   "outputs": [
    {
     "name": "stdout",
     "output_type": "stream",
     "text": [
      "What matrix operation you want : A(ddition) or S(ubtraction) or e(exit? : Addition\n",
      "Your selected operation : Addition\n",
      "Result Matrix : [[5, 8], [8, 9]]\n",
      "What matrix operation you want : A(ddition) or S(ubtraction) or e(exit? : s\n",
      "Your selected operation : s\n",
      "Result Matrix : [[3, 8], [-2, 5]]\n",
      "What matrix operation you want : A(ddition) or S(ubtraction) or e(exit? : a\n",
      "Your selected operation : a\n",
      "Result Matrix : [[5, 8], [8, 9]]\n",
      "What matrix operation you want : A(ddition) or S(ubtraction) or e(exit? : s\n",
      "Your selected operation : s\n",
      "Result Matrix : [[3, 8], [-2, 5]]\n",
      "What matrix operation you want : A(ddition) or S(ubtraction) or e(exit? : e\n",
      "Good Bye\n"
     ]
    }
   ],
   "source": [
    "# Assuming dimension of both matrix are same\n",
    "\n",
    "def matrix_add_sub(matrix_1 , matrix_2 , selected_operation):\n",
    "    \n",
    "    result_matrix = []\n",
    "    \n",
    "    #Number of rows and columns in matrix\n",
    "    rows = len(matrix_1)            #Number of rows in matrix\n",
    "    cols = len(matrix_1[0])         #Number of columns in matrix\n",
    "    \n",
    "    for i in range(rows):\n",
    "        result_row = [ ]\n",
    "        for j in range(cols):\n",
    "            \n",
    "            if selected_operation == '+' :\n",
    "                result_num = matrix_1[i][j] +  matrix_2[i][j]\n",
    "            elif selected_operation == '-' :\n",
    "                result_num = matrix_1[i][j] -  matrix_2[i][j]\n",
    "                \n",
    "            result_row.append(result_num)\n",
    "            \n",
    "        result_matrix.append(result_row)    \n",
    "        \n",
    "    return result_matrix\n",
    "\n",
    "\n",
    "A = [[4 ,8] , [3, 7]]\n",
    "\n",
    "B = [[1, 0] , [5 ,2 ]]\n",
    "\n",
    "while True:\n",
    "    user_choice = input(\"What matrix operation you want : A(ddition) or S(ubtraction) or e(exit? : \")\n",
    "    \n",
    "    if user_choice.isalpha():\n",
    "        if user_choice[0].upper() == 'A':\n",
    "            operation = '+'\n",
    "        elif user_choice[0].upper() == 'S':\n",
    "            operation = '-'\n",
    "        elif user_choice[0].upper() == 'E':\n",
    "            print(\"Good Bye\")\n",
    "            break\n",
    "        else :\n",
    "            print(\"You have selected wrong choice\")\n",
    "            continue          \n",
    "    else :\n",
    "        print(\"You have selected wrong choice\")\n",
    "        continue\n",
    "        \n",
    "    \n",
    "    result_matrix = matrix_add_sub(A,B , operation)\n",
    "    \n",
    "    print(f\"Your selected operation : {user_choice}\")\n",
    "    print(f\"Result Matrix : {result_matrix}\")\n",
    "    \n"
   ]
  },
  {
   "cell_type": "markdown",
   "metadata": {},
   "source": [
    "# 33. Write a program that calculates the greatest common divisor (GCD) of two  numbers using the Euclidean algorithm."
   ]
  },
  {
   "cell_type": "code",
   "execution_count": null,
   "metadata": {},
   "outputs": [],
   "source": [
    "The Greatest Common Divisor (GCD) of two integers A and B is the largest integer that divides both A and B\n",
    "\n",
    "The Euclidean Algorithm for finding GCD(A,B) is as follows:\n",
    "If A = 0 then GCD(A,B)=B, since the GCD(0,B)=B, and we can stop.  \n",
    "If B = 0 then GCD(A,B)=A, since the GCD(A,0)=A, and we can stop.  \n",
    "Write A in quotient remainder form (A = B⋅Q + R)\n",
    "Find GCD(B,R) using the Euclidean Algorithm since GCD(A,B) = GCD(B,R)"
   ]
  },
  {
   "cell_type": "code",
   "execution_count": 7,
   "metadata": {},
   "outputs": [
    {
     "name": "stdout",
     "output_type": "stream",
     "text": [
      "6\n",
      "5\n"
     ]
    }
   ],
   "source": [
    "def find_gcd(num1 , num2):\n",
    "    \n",
    "    if num1 == 0 :\n",
    "        return num2\n",
    "    \n",
    "    if num2 == 0 :\n",
    "        return num1\n",
    "    \n",
    "    while num1 != 0 and num2 != 0 :\n",
    "        temp = num1 % num2\n",
    "        num1 = num2\n",
    "        num2 = temp\n",
    "        \n",
    "    return find_gcd(num1 , num2)\n",
    "\n",
    "# To Test the function\n",
    "\n",
    "result = find_gcd(270 , 192)\n",
    "\n",
    "print(result)\n",
    "\n",
    "result = find_gcd(15 , 10)\n",
    "\n",
    "print(result)\n"
   ]
  },
  {
   "cell_type": "markdown",
   "metadata": {},
   "source": [
    "# 34. Build a program that performs matrix multiplication using nested loops and conditional statements."
   ]
  },
  {
   "cell_type": "code",
   "execution_count": 8,
   "metadata": {},
   "outputs": [],
   "source": [
    "# Let's take an example \n",
    "\n",
    "matrix_1 = [\n",
    "    [1, 2, 3],\n",
    "    [4, 5, 6],\n",
    "    [7, 8, 9]\n",
    "]\n",
    "\n",
    "matrix_2 = [\n",
    "    [9, 8, 7],\n",
    "    [6, 5, 4],\n",
    "    [3, 2, 1]\n",
    "]\n",
    "\n",
    "#Matrix multiplication is possible only when number of columns in matrix_1 is equal to number of rows in matrix 2"
   ]
  },
  {
   "cell_type": "code",
   "execution_count": 11,
   "metadata": {},
   "outputs": [
    {
     "name": "stdout",
     "output_type": "stream",
     "text": [
      "Result Matrix : [[30, 24, 18], [84, 69, 54], [138, 114, 90]]\n"
     ]
    }
   ],
   "source": [
    "def matrix_multiplication( matrix_1 , matrix_2):\n",
    "    \n",
    "    # Check if matrices are compatible for multiplication\n",
    "    # i.e number of columns in matrix_1 is equal to number of rows in matrix_2\n",
    "    \n",
    "    if len(matrix_1[0])  != len(matrix_2) :\n",
    "        print(\"Matrix not compatible for multiplication\")\n",
    "        return \n",
    "    \n",
    "    # if dimension of matrix_1 = m * n ,  dimension of matrix_2 = n * k , dimension of result matrix = m * k\n",
    "    \n",
    "    result_matrix = []\n",
    "    \n",
    "    # Initialize result matrix with zeros for m * k dimension\n",
    "    for i in range(len(matrix_1)):\n",
    "        result_row = []\n",
    "        for j in range(len(matrix_2[0])):\n",
    "            num = 0\n",
    "            result_row.append(num)\n",
    "        \n",
    "        result_matrix.append(result_row)\n",
    "        \n",
    "#     print(result_matrix)\n",
    "    \n",
    "    # Matrix multiplication\n",
    "    \n",
    "    for i in range(len(matrix_1)):\n",
    "        for j in range(len(matrix_2[0])):\n",
    "            for k in range(len(matrix_2)):\n",
    "                result_matrix[i][j] += matrix_1[i][k] * matrix_2[k][j]\n",
    "                \n",
    "    return result_matrix\n",
    "\n",
    "\n",
    "# Test the matrix multiplication\n",
    "\n",
    "# Let's take an example \n",
    "\n",
    "matrix_1 = [\n",
    "    [1, 2, 3],\n",
    "    [4, 5, 6],\n",
    "    [7, 8, 9]\n",
    "]\n",
    "\n",
    "matrix_2 = [\n",
    "    [9, 8, 7],\n",
    "    [6, 5, 4],\n",
    "    [3, 2, 1]\n",
    "]\n",
    "\n",
    "\n",
    "result_matrix = matrix_multiplication(matrix_1 , matrix_2)\n",
    "\n",
    "\n",
    "print(f\"Result Matrix : {result_matrix}\")\n",
    "\n",
    "    "
   ]
  },
  {
   "cell_type": "markdown",
   "metadata": {},
   "source": [
    "# 35. Create a program that simulates a basic text-based tic-tac-toe game against the computer."
   ]
  },
  {
   "cell_type": "markdown",
   "metadata": {},
   "source": [
    "# Tic_Tac_Toe_Game\n",
    "\n",
    "Tic Tac Toe is a two-player game in which the objective is to take turns and mark the correct spaces in a 3x3 (or larger) grid. \n",
    "\n",
    "Minimum of 3 turns required to win or Maxmium 5 turn a player will get.\n",
    "\n",
    "On technical side side,\n",
    "\n",
    "We can represent matrix 3 by 3 to represent Tic Tac Toe board via list. Player will get his/her chance turn by Turn\n",
    "\n",
    "Steps:\n",
    "    \n",
    "1. Print the board after every Turn.\n",
    "2. Print the empty space for Player A and ask where he wants to place 'X'\n",
    "3. Check the winning position\n",
    "4. if win, exit the game\n",
    "5. Else , move to next Game"
   ]
  },
  {
   "cell_type": "code",
   "execution_count": 2,
   "metadata": {},
   "outputs": [],
   "source": [
    "\n",
    "# Function to print the board\n",
    "def print_tictac_board(tic_tac_toe_board):\n",
    "    for x in tic_tac_toe_board:\n",
    "        for i in range(len(x)):\n",
    "            if i == 2 :\n",
    "                print(x[i] )\n",
    "            else :\n",
    "                print(x[i] , end = '|')\n",
    "\n",
    "\n",
    "#Function to find the available space:\n",
    "\n",
    "def find_avail_space_on_tic_tac_board(tic_tac_toe_board):\n",
    "    avail_space_list = []\n",
    "    for i in range(len(tic_tac_toe_board)):\n",
    "        for j in range(len(tic_tac_toe_board[i])):\n",
    "            if tic_tac_toe_board[i][j] == '_' :\n",
    "                avail_space = 'R' + str(i+1) + '&C' + str(j+1)\n",
    "                avail_space_list.append(avail_space)\n",
    "                \n",
    "    return avail_space_list\n",
    "                \n",
    "# Function to check winning situation\n",
    "\n",
    "def is_winning(tic_tac_toe_board , symbol):\n",
    "    \n",
    "    if ( tic_tac_toe_board[0][0] == symbol ) &  ( tic_tac_toe_board[0][1] == symbol ) &  ( tic_tac_toe_board[0][2] == symbol ):\n",
    "        return True\n",
    "    elif ( tic_tac_toe_board[1][0] == symbol ) &  ( tic_tac_toe_board[1][1] == symbol ) &  ( tic_tac_toe_board[1][2] == symbol ):\n",
    "        return True\n",
    "    elif ( tic_tac_toe_board[2][0] == symbol ) &  ( tic_tac_toe_board[2][1] == symbol ) &  ( tic_tac_toe_board[2][2] == symbol ):\n",
    "        return True\n",
    "    elif ( tic_tac_toe_board[0][0] == symbol ) &  ( tic_tac_toe_board[1][0] == symbol ) &  ( tic_tac_toe_board[2][0] == symbol ):\n",
    "        return True\n",
    "    elif ( tic_tac_toe_board[0][1] == symbol ) &  ( tic_tac_toe_board[1][1] == symbol ) &  ( tic_tac_toe_board[2][1] == symbol ):\n",
    "        return True\n",
    "    elif ( tic_tac_toe_board[0][2] == symbol ) &  ( tic_tac_toe_board[1][2] == symbol ) &  ( tic_tac_toe_board[2][2] == symbol ):\n",
    "        return True\n",
    "    elif ( tic_tac_toe_board[0][0] == symbol ) &  ( tic_tac_toe_board[1][1] == symbol ) &  ( tic_tac_toe_board[2][2] == symbol ):\n",
    "        return True\n",
    "    elif ( tic_tac_toe_board[0][2] == symbol ) &  ( tic_tac_toe_board[1][1] == symbol ) &  ( tic_tac_toe_board[2][0] == symbol ):\n",
    "        return True\n",
    "    \n",
    "    return False\n",
    "\n",
    "# Function to fill the space\n",
    "def place_symbol_on_tic_tac_board(tic_tac_toe_board , place_selected , symbol ):\n",
    "    \n",
    "    # if row is gretear than 3 and less than 1\n",
    "    if int(place_selected[1]) > 3 or int(place_selected[1]) < 1 :        \n",
    "        return False\n",
    "    \n",
    "    # if col is gretear than 3 and less than 1    \n",
    "    if int(place_selected[4]) > 3 or int(place_selected[4]) < 1 :\n",
    "        return False\n",
    "    \n",
    "    # check the index from selected available place\n",
    "    i = int(place_selected[1]) - 1\n",
    "    j = int(place_selected[4]) - 1\n",
    "    \n",
    "    # if blank space\n",
    "    if tic_tac_toe_board[i][j] == '_' :\n",
    "        \n",
    "        tic_tac_toe_board[i][j] = symbol     # place the symbol\n",
    "        \n",
    "        return tic_tac_toe_board            # return the board\n",
    "    else :\n",
    "        return False\n",
    "        \n",
    "    \n",
    "\n",
    "def play_tic_tac_toe_game():\n",
    "    print(\"Welcome To TIC TAC TOE GAME\")\n",
    "    print(\"---------------------------\\n\")\n",
    "    \n",
    "    # 1. Initialize the board     \n",
    "    tic_tac_toe_board = [ ['_' for _ in range(3) ] for _ in range(3)]   # Initialize the board with '_'\n",
    "    \n",
    "    for i in range(1,25,1):\n",
    "        \n",
    "        # 2 . print the board\n",
    "        print_tictac_board(tic_tac_toe_board)\n",
    "        print(\"\\n\\n\")\n",
    "        print(f\"Available space on Tic Tac Toe Board is : {find_avail_space_on_tic_tac_board(tic_tac_toe_board)}\\n\")\n",
    "        \n",
    "        print(\"\\n\\n\")\n",
    "        if len(find_avail_space_on_tic_tac_board(tic_tac_toe_board)) == 0 :\n",
    "            print(\"Match Draw\")\n",
    "            return\n",
    "        \n",
    "        if i % 2 == 0 :\n",
    "            print(\"It's Player B's Turn .\")\n",
    "            print(\"**********************\")\n",
    "            symbol = 'O'\n",
    "        else :\n",
    "            print(\"It's Player A's Turn \\n\")\n",
    "            print(\"**********************\")\n",
    "            symbol = 'X'\n",
    "\n",
    "        place_selected = input(f\"Please Enter where you want to place {symbol} : \")\n",
    "        \n",
    "        #result = place_symbol_on_tic_tac_board(tic_tac_toe_board , place_selected , symbol )\n",
    "            \n",
    "        #if result:\n",
    "        if place_symbol_on_tic_tac_board(tic_tac_toe_board , place_selected , symbol ):\n",
    "            #tic_tac_toe_board = result\n",
    "            \n",
    "            if len(find_avail_space_on_tic_tac_board(tic_tac_toe_board)) < 5 :\n",
    "                if is_winning(tic_tac_toe_board , symbol):\n",
    "                    if symbol == 'X' :\n",
    "                        print(\"Player A WON The Game\")\n",
    "                    else :\n",
    "                        print(\"Player B WON The Game\")\n",
    "                    print_tictac_board(tic_tac_toe_board)\n",
    "                    return                       \n",
    "        else :\n",
    "            print(\"You have choosen wrong place\")                   \n",
    "            i = i -1   \n",
    "\n",
    "    \n",
    "    "
   ]
  },
  {
   "cell_type": "code",
   "execution_count": 3,
   "metadata": {},
   "outputs": [
    {
     "name": "stdout",
     "output_type": "stream",
     "text": [
      "Welcome To TIC TAC TOE GAME\n",
      "---------------------------\n",
      "\n",
      "_|_|_\n",
      "_|_|_\n",
      "_|_|_\n",
      "\n",
      "\n",
      "\n",
      "Available space on Tic Tac Toe Board is : ['R1&C1', 'R1&C2', 'R1&C3', 'R2&C1', 'R2&C2', 'R2&C3', 'R3&C1', 'R3&C2', 'R3&C3']\n",
      "\n",
      "\n",
      "\n",
      "\n",
      "It's Player A's Turn \n",
      "\n",
      "**********************\n",
      "Please Enter where you want to place X : r2&c2\n",
      "_|_|_\n",
      "_|X|_\n",
      "_|_|_\n",
      "\n",
      "\n",
      "\n",
      "Available space on Tic Tac Toe Board is : ['R1&C1', 'R1&C2', 'R1&C3', 'R2&C1', 'R2&C3', 'R3&C1', 'R3&C2', 'R3&C3']\n",
      "\n",
      "\n",
      "\n",
      "\n",
      "It's Player B's Turn .\n",
      "**********************\n",
      "Please Enter where you want to place O : r1&c1\n",
      "O|_|_\n",
      "_|X|_\n",
      "_|_|_\n",
      "\n",
      "\n",
      "\n",
      "Available space on Tic Tac Toe Board is : ['R1&C2', 'R1&C3', 'R2&C1', 'R2&C3', 'R3&C1', 'R3&C2', 'R3&C3']\n",
      "\n",
      "\n",
      "\n",
      "\n",
      "It's Player A's Turn \n",
      "\n",
      "**********************\n",
      "Please Enter where you want to place X : r1&c3\n",
      "O|_|X\n",
      "_|X|_\n",
      "_|_|_\n",
      "\n",
      "\n",
      "\n",
      "Available space on Tic Tac Toe Board is : ['R1&C2', 'R2&C1', 'R2&C3', 'R3&C1', 'R3&C2', 'R3&C3']\n",
      "\n",
      "\n",
      "\n",
      "\n",
      "It's Player B's Turn .\n",
      "**********************\n",
      "Please Enter where you want to place O : r3&c1\n",
      "O|_|X\n",
      "_|X|_\n",
      "O|_|_\n",
      "\n",
      "\n",
      "\n",
      "Available space on Tic Tac Toe Board is : ['R1&C2', 'R2&C1', 'R2&C3', 'R3&C2', 'R3&C3']\n",
      "\n",
      "\n",
      "\n",
      "\n",
      "It's Player A's Turn \n",
      "\n",
      "**********************\n",
      "Please Enter where you want to place X : r2&c1\n",
      "O|_|X\n",
      "X|X|_\n",
      "O|_|_\n",
      "\n",
      "\n",
      "\n",
      "Available space on Tic Tac Toe Board is : ['R1&C2', 'R2&C3', 'R3&C2', 'R3&C3']\n",
      "\n",
      "\n",
      "\n",
      "\n",
      "It's Player B's Turn .\n",
      "**********************\n",
      "Please Enter where you want to place O : r3&c2\n",
      "O|_|X\n",
      "X|X|_\n",
      "O|O|_\n",
      "\n",
      "\n",
      "\n",
      "Available space on Tic Tac Toe Board is : ['R1&C2', 'R2&C3', 'R3&C3']\n",
      "\n",
      "\n",
      "\n",
      "\n",
      "It's Player A's Turn \n",
      "\n",
      "**********************\n",
      "Please Enter where you want to place X : r2&c3\n",
      "Player A WON The Game\n",
      "O|_|X\n",
      "X|X|X\n",
      "O|O|_\n"
     ]
    }
   ],
   "source": [
    "# Play the Game\n",
    "\n",
    "play_tic_tac_toe_game()"
   ]
  },
  {
   "cell_type": "markdown",
   "metadata": {},
   "source": [
    "# 36. Write a program that generates Fibonacci numbers up to a specified term using iterative methods."
   ]
  },
  {
   "cell_type": "code",
   "execution_count": 14,
   "metadata": {},
   "outputs": [
    {
     "name": "stdout",
     "output_type": "stream",
     "text": [
      "First 15 fibonacci numbers are : [0, 1, 1, 2, 3, 5, 8, 13, 21, 34, 55, 89, 144, 233, 377]\n"
     ]
    }
   ],
   "source": [
    "# Fibonacci numbers up to first n terms\n",
    "\n",
    "def fibonacci_num_up_to_n_term(n):\n",
    "    fibonacci_list = []        # to store Fibonacci numbers\n",
    "\n",
    "    for i in range(n):\n",
    "        if i < 2 :\n",
    "            fibonacci_list.append(i)\n",
    "        else :\n",
    "            num = fibonacci_list[i-1] + fibonacci_list[i-2]\n",
    "            fibonacci_list.append(num)\n",
    "            \n",
    "    return fibonacci_list\n",
    "        \n",
    "# To Test the above function\n",
    "n = 15\n",
    "\n",
    "result = fibonacci_num_up_to_n_term(15)\n",
    "\n",
    "print(f\"First {n} fibonacci numbers are : {result}\")"
   ]
  },
  {
   "cell_type": "markdown",
   "metadata": {},
   "source": [
    "# 37. Develop a program that calculates the nth term of the Fibonacci sequence using memoization.\n"
   ]
  },
  {
   "cell_type": "code",
   "execution_count": 4,
   "metadata": {},
   "outputs": [
    {
     "name": "stdout",
     "output_type": "stream",
     "text": [
      "The 12th term of fibonacci sequence are : 89\n"
     ]
    }
   ],
   "source": [
    "# nth term of Fibonacci sequence\n",
    "\n",
    "def nth_term_of_fibonacci_seq(m):\n",
    "    \n",
    "    for i in range(m):\n",
    "        if i < 2 :\n",
    "            result = i\n",
    "        else :\n",
    "            result = nth_term_of_fibonacci_seq(m-1) + nth_term_of_fibonacci_seq(m-2)\n",
    "            \n",
    "   \n",
    "    return result\n",
    "\n",
    "\n",
    "# To Test the above function\n",
    "n = 12\n",
    "\n",
    "result = nth_term_of_fibonacci_seq(n)\n",
    "\n",
    "print(f\"The {n}th term of fibonacci sequence are : {result}\")"
   ]
  },
  {
   "cell_type": "markdown",
   "metadata": {},
   "source": [
    "# 38. Create a program that generates a calendar for a given month and year using conditional statements."
   ]
  },
  {
   "cell_type": "code",
   "execution_count": 10,
   "metadata": {},
   "outputs": [
    {
     "name": "stdout",
     "output_type": "stream",
     "text": [
      "\n",
      "Enter the year: 2024\n",
      "\n",
      "Enter the month (1-12): 2\n",
      "\n",
      "Calendar for February 2024\n",
      "\n",
      "Mo  Tu  We  Th  Fr  Sa  Su\n",
      "             1   2   3   4  \n",
      " 5   6   7   8   9  10  11  \n",
      "12  13  14  15  16  17  18  \n",
      "19  20  21  22  23  24  25  \n",
      "26  27  28  29              \n"
     ]
    }
   ],
   "source": [
    "import calendar\n",
    "\n",
    "def generate_calendar(year, month):\n",
    "    cal = calendar.monthcalendar(year, month)\n",
    "\n",
    "    # Print the header\n",
    "    print(f\"\\nCalendar for {calendar.month_name[month]} {year}\")\n",
    "    print(\"\\nMo  Tu  We  Th  Fr  Sa  Su\")\n",
    "\n",
    "    # Print each week\n",
    "    for week in cal:\n",
    "        for day in week:\n",
    "            if day == 0:\n",
    "                print(\"   \", end=\" \")  # Print blank space for days outside the month\n",
    "            else:\n",
    "                print(f\"{day:2d} \", end=\" \")\n",
    "        print()  # Move to the next line after each week\n",
    "\n",
    "\n",
    "# To test the above function\n",
    "\n",
    "# Input month and year\n",
    "year = int(input(\"\\nEnter the year: \"))\n",
    "month = int(input(\"\\nEnter the month (1-12): \"))\n",
    "\n",
    "# Validate input\n",
    "if 1 <= month <= 12:\n",
    "    \n",
    "    generate_calendar(year, month)\n",
    "else:\n",
    "    print(\"Invalid month. Please enter a month between 1 and 12.\")\n"
   ]
  },
  {
   "cell_type": "code",
   "execution_count": 11,
   "metadata": {},
   "outputs": [
    {
     "data": {
      "text/plain": [
       "[[0, 0, 0, 1, 2, 3, 4],\n",
       " [5, 6, 7, 8, 9, 10, 11],\n",
       " [12, 13, 14, 15, 16, 17, 18],\n",
       " [19, 20, 21, 22, 23, 24, 25],\n",
       " [26, 27, 28, 29, 0, 0, 0]]"
      ]
     },
     "execution_count": 11,
     "metadata": {},
     "output_type": "execute_result"
    }
   ],
   "source": [
    "calendar.monthcalendar(2024,2)"
   ]
  },
  {
   "cell_type": "code",
   "execution_count": 12,
   "metadata": {},
   "outputs": [
    {
     "data": {
      "text/plain": [
       "5"
      ]
     },
     "execution_count": 12,
     "metadata": {},
     "output_type": "execute_result"
    }
   ],
   "source": [
    "year = 2024\n",
    "month = 2\n",
    "\n",
    "first_day_of_month = (year + (year // 4) - (year // 100) + (year // 400) + [0, 3, 3, 6, 1, 4, 6, 2, 5, 0, 3, 5][month - 1]) % 7\n",
    "\n",
    "first_day_of_month"
   ]
  },
  {
   "cell_type": "markdown",
   "metadata": {},
   "source": [
    "# 39. Build a program that simulates a basic text-based blackjack game against the computer."
   ]
  },
  {
   "cell_type": "markdown",
   "metadata": {},
   "source": [
    "# Black Jack Game:\n",
    "Welcome to 24/7 Blackjack! Blackjack, also known to some as twenty-one, is one of the most popular casino games around.\n",
    "\n",
    "Blackjack is a card game that pits player versus dealer. It is played with one or more decks of cards.\n",
    "\n",
    "1) Cards are counted as their respective numbers, face cards as ten, and ace as either eleven or one.\n",
    "\n",
    "2) The goal of the game is to get a hand of cards that is as close to 21 as possible without going over.\n",
    "\n",
    "3) Bet:In Blackjack, or 21, the player must decide what to bet before the hand. Click the chips to add them to your bet.Once you click \"deal\" your bet is set.\n",
    "\n",
    "4) Game Play: a) Bet is set b) Once you click \"deal\" your bet is set, and two cards are dealt to the player face up and two cards are dealt to the dealer, one face up and one face down. c) Players can choose to \"hit\" (receive another card) or \"stand\" (keep their current hand). d) If a player's hand exceeds 21, they \"bust\" and lose the game. e) Once all players have finished their turn, the dealer reveals their face-down card and hits until their hand is worth at least 17 f) If the dealer's hand exceeds 21, all remaining players win. Otherwise, players with a higher hand than the dealer win."
   ]
  },
  {
   "cell_type": "markdown",
   "metadata": {},
   "source": [
    "# Some points for Black Jack Game:\n",
    "\n",
    "1) Set of cards : Game is played with one or more decks of cards. For Simplicity , we will design Game with one deck of card 2) Deck Of Cards: There are 4 suits ( Heart , spade , club and diamond).Each suits have 4 face cards( king,Jack,Queen,Ace) and 9 non Face cards ( 2,3 4,5,6,7,8,9,10)\n",
    "\n",
    "Since , in black jack each Face Card has value 10 and ace has 11 or 1. So each suits will have value (2,3,4,5,6,7,8,9,10,10,10,10,11)\n",
    "\n",
    "now Each suits are equal value\n",
    "\n",
    "so value of card in one deck will be (2,3,4,5,6,7,8,9,10,10,10,10,11) * 4 times\n",
    "\n",
    "We can present Deck Of Card with List value\n",
    "\n",
    "3) We can shuffle the deck of cards using random.shuffle()\n",
    "\n",
    "4) Betting : We are not going to deal with bet in this 1st version of game\n",
    "\n",
    "5) deal:two cards are dealt to the player face up and two cards are dealt to the dealer, one face up and one face down.\n",
    "\n",
    "we will write function for deal so that 2 cards are removed from deck of cards and given to players/dealer\n",
    "6) We can use list to denotes dealers/players hand card"
   ]
  },
  {
   "cell_type": "code",
   "execution_count": 7,
   "metadata": {},
   "outputs": [],
   "source": [
    "#Importing Module\n",
    "\n",
    "import random\n",
    "\n",
    "# commenting the below Data structure as we are redefining under play_black_jack_game function\n",
    "'''\n",
    "\n",
    "# Data structure of decks of card\n",
    "\n",
    "decks_card = [2,3,4,5,6,7,8,9,10,10,10,10,11] * 4\n",
    "\n",
    "# let's start with one player and dealer\n",
    "\n",
    "dealer_hand_card    = []\n",
    "player_1_hand_card  = []\n",
    "\n",
    "'''\n",
    "\n",
    "# Function for click_deal\n",
    "\n",
    "def click_deal(pack_of_cards, hand_card):        # Parameter decks_card and list of hand cards\n",
    "    \n",
    "    #Remove one card from deck and add that card to player/delaers hand\n",
    "    card = pack_of_cards.pop()\n",
    "    hand_card.append(card)\n",
    "    #Remove 2nd card from deck and add that card to player/delaers hand\n",
    "    card = pack_of_cards.pop()\n",
    "    hand_card.append(card)\n",
    "    \n",
    "    return pack_of_cards,hand_card\n",
    "\n",
    "# function to sum the value of cards in players/dealers hand\n",
    "\n",
    "def calc_hands_value(hand_card):\n",
    "    \n",
    "    sum_of_card_value = sum(hand_card)      # Add the value of all cards in hands\n",
    "    \n",
    "    if sum_of_card_value > 21:    # if sum of cards value exceed to 21\n",
    "        if 11 in hand_card:       # if ace(11) present in hands\n",
    "            sum_of_card_value -= 10      # treating ace as 1 because sum exceeds 21\n",
    "            \n",
    "    return sum_of_card_value\n",
    "\n",
    "\n",
    "# function for hit : To receive another card from deck\n",
    "\n",
    "def click_hit(pack_of_cards, hand_card):        # Parameter decks_card and list of hand cards\n",
    "    #Remove one card from deck and add that card to player/delaers hand\n",
    "    card = pack_of_cards.pop()\n",
    "    hand_card.append(card)\n",
    "    \n",
    "    return pack_of_cards,hand_card\n",
    "    \n",
    "    \n",
    "# function to play the game\n",
    "\n",
    "def play_black_jack_game(total_amount_to_spend):\n",
    "    \n",
    "    # step_1  : Take one decks of card\n",
    "    \n",
    "    decks_card = [2,3,4,5,6,7,8,9,10,10,10,10,11] * 4\n",
    "    \n",
    "    # Step_2 : Take four decks of card to play the game(Casino uses 4-6 sets of 52 card)\n",
    "    \n",
    "    pack_of_cards = decks_card * 4\n",
    "    \n",
    "    # Step_3  : let's start with one player and dealer\n",
    "    \n",
    "    dealer_hand_card    = []\n",
    "    player_1_hand_card  = []\n",
    "    \n",
    "    # step_4 : Shuffle the packs of card\n",
    "    \n",
    "    random.shuffle(pack_of_cards)\n",
    "    \n",
    "    # Step_5 : Add bet  : We are not implementing it as of now\n",
    "    game_bet = float(input(\"How Much You want to bet for this Game ? : \"))\n",
    "    \n",
    "    # Step_6 : click deals\n",
    "    \n",
    "    #Give 2 cards to player_1\n",
    "    \n",
    "    pack_of_cards , player_1_hand_card = click_deal(pack_of_cards, player_1_hand_card)\n",
    "    \n",
    "    #Give 2 cards to dealers\n",
    "    \n",
    "    pack_of_cards , dealer_hand_card = click_deal(pack_of_cards, dealer_hand_card)\n",
    "    \n",
    "    # Step_7 : Player has to choose hit or stand\n",
    "    #option = input(\"Hey Player_1, Please choose your options : hit(1) or stand(2).....: \")\n",
    "    \n",
    "    #Before choosing hit/stand , player check his card and value\n",
    "    \n",
    "    player_1_hand_value = calc_hands_value(player_1_hand_card)\n",
    "       \n",
    "    while player_1_hand_value < 22:\n",
    "        print(f\"Before chooisng hit/stand : The player's card in  hand is : {player_1_hand_card}\")\n",
    "        \n",
    "        #Calculate player's hand\n",
    "        \n",
    "        option = input(\"Hey Player_1, Please choose your options : hit(1) or stand(2).....: \")\n",
    "        \n",
    "        option = option.lower()\n",
    "        \n",
    "        if option == '1' or option == 'hit' :\n",
    "            #To receive another card from deck\n",
    "            \n",
    "            pack_of_cards , player_1_hand_card = click_hit(pack_of_cards, player_1_hand_card) \n",
    "            player_1_hand_value = calc_hands_value(player_1_hand_card)\n",
    "            \n",
    "        elif option == '2' or option == 'stand' :\n",
    "            \n",
    "            break\n",
    "        else :\n",
    "            print(f\"You have entered wrong choice, try again\\n\")\n",
    "            \n",
    "    #step_8 : Calculate player's hand\n",
    "    \n",
    "    player_1_hand_value = calc_hands_value(player_1_hand_card)\n",
    "    \n",
    "    if player_1_hand_value == 21 :\n",
    "        \n",
    "        print(f\"Player_1 win as blackjack , his cards in hand is : {player_1_hand_card}\")  \n",
    "        \n",
    "        total_amount_to_spend +=  ( game_bet * 1.5 )\n",
    "        \n",
    "        return \"Player win\" , total_amount_to_spend\n",
    "        \n",
    "    if player_1_hand_value > 21 :\n",
    "        print(f\"Player_1 loose as hand value exceed 21 , his cards in hand is : {player_1_hand_card}\")\n",
    "        \n",
    "        total_amount_to_spend -=  game_bet \n",
    "        \n",
    "        return \"Player loose\" , total_amount_to_spend\n",
    "    \n",
    "    # After completion of player's hand,it's dealer's turn  now\n",
    "    \n",
    "    # Step_9 : Calculate dealer's hand\n",
    "    \n",
    "    dealer_hand_value = calc_hands_value(dealer_hand_card)\n",
    "    \n",
    "    # Step_10 : dealer hits until their hand is worth at least 17\n",
    "    \n",
    "    while dealer_hand_value <  17 :\n",
    "        \n",
    "        # Dealers clicked hit\n",
    "        pack_of_cards , dealer_hand_card = click_hit(pack_of_cards, dealer_hand_card)\n",
    "        \n",
    "        # Calculate dealer hand value\n",
    "        dealer_hand_value = calc_hands_value(dealer_hand_card)\n",
    "        \n",
    "    if dealer_hand_value > 21 :\n",
    "        print(f\"Dealer loose as hand value exceed 21 , his cards in hand is : {dealer_hand_card}\")\n",
    "        \n",
    "        total_amount_to_spend +=  game_bet  \n",
    "        \n",
    "        return \"Dealer loose\" , total_amount_to_spend\n",
    "    \n",
    "    if dealer_hand_value > player_1_hand_value :\n",
    "        print(f\"Dealer win as hand value is more than players hand va;ue , dealer's card : {dealer_hand_card}  , player_1's card : {player_1_hand_card}\")\n",
    "        total_amount_to_spend -=  game_bet\n",
    "        return \"Dealer win\" , total_amount_to_spend\n",
    "    \n",
    "    elif dealer_hand_value < player_1_hand_value :\n",
    "        print(f\"Player win as hand value is more than Dealers hand va;ue , dealer's card : {dealer_hand_card}  , player_1's card : {player_1_hand_card}\")\n",
    "        total_amount_to_spend +=  game_bet \n",
    "        return \"Player win\" , total_amount_to_spend\n",
    "    \n",
    "    else :\n",
    "        print(f\"Draw , dealer's card : {dealer_hand_card}  , player_1's card : {player_1_hand_card}\")\n",
    "        \n",
    "        return \"Draw\" , total_amount_to_spend\n",
    "\n",
    "        \n",
    "\n",
    "# Define the function once your quiz game starts\n",
    "def my_black_jack_game():\n",
    "    print(\"*******************************************************************\")\n",
    "    print(\"*******SKYLER CASINO WELCOMES ALL OF YOU FOR GAME OF LUCK *********\")\n",
    "    print(\"*                                                                 *\")\n",
    "    print(\"*******************************************************************\")\n",
    "    print(\"\\n\")\n",
    "    \n",
    "    isFirstTime = True\n",
    "    # Take user input to proceed\n",
    "    while True:\n",
    "        my_game_menu_display()    # Display the menu\n",
    "        choice = input(\"Enter your choice: \")\n",
    "        if choice == '1':\n",
    "            if isFirstTime :                \n",
    "                pname = input(\"Enter your Name :\")\n",
    "                total_amount_to_spend = float(input(\"How much money do you have (in rupees) ? : \"))\n",
    "                welcome_player(pname,total_amount_to_spend)\n",
    "                \n",
    "            if total_amount_to_spend > 100 :\n",
    "                game_status, total_amount_to_spend = play_black_jack_game(total_amount_to_spend)    # Play the game\n",
    "                print(f\"Your total money in hand at end of this game : {total_amount_to_spend}\")\n",
    "                if isFirstTime : \n",
    "                    isFirstTime = False                    \n",
    "                \n",
    "                continue\n",
    "            else :\n",
    "                print(\"You do not have enough money in hand to play\")\n",
    "                final_message(total_amount_to_spend)\n",
    "                my_game_exit()    # Terminate the game\n",
    "                break\n",
    "        elif choice == '2':\n",
    "            final_message(total_amount_to_spend)\n",
    "            my_game_exit()    # Terminate the game\n",
    "            break\n",
    "        else:\n",
    "            print(\"You have choosen wrong choice, please use '1' or '2' \")\n",
    "            continue\n",
    "            \n",
    "\n",
    "def final_message(total_amount_to_spend):\n",
    "    print(f\"Thank You for your Game Time. Your Balance in HAND IS : {total_amount_to_spend}\\n\")\n",
    "    \n",
    "    print(\"Good BYE......See You Next Time\")\n",
    "    \n",
    "\n",
    "def welcome_player(pname , total_amount_to_spend):\n",
    "    print(f\"Welecome {pname} to Black jack Game\")\n",
    "    print(f\"You have Total money in hand : Rs {total_amount_to_spend}\")\n",
    "    \n",
    "# Function to display the quiz menu\n",
    "def my_game_menu_display():\n",
    "    print(\"1. Play the Black Jack game\")\n",
    "    print(\"2. Exit the Game\")\n",
    "\n",
    "# Exit the quiz\n",
    "\n",
    "def my_game_exit():\n",
    "    print(\"Going to exit the game\")"
   ]
  },
  {
   "cell_type": "code",
   "execution_count": 8,
   "metadata": {},
   "outputs": [
    {
     "name": "stdout",
     "output_type": "stream",
     "text": [
      "*******************************************************************\n",
      "*******SKYLER CASINO WELCOMES ALL OF YOU FOR GAME OF LUCK *********\n",
      "*                                                                 *\n",
      "*******************************************************************\n",
      "\n",
      "\n",
      "1. Play the Black Jack game\n",
      "2. Exit the Game\n",
      "Enter your choice: 1\n",
      "Enter your Name :abhishek\n",
      "How much money do you have (in rupees) ? : 2000\n",
      "Welecome abhishek to Black jack Game\n",
      "You have Total money in hand : Rs 2000.0\n",
      "How Much You want to bet for this Game ? : 500\n",
      "Before chooisng hit/stand : The player's card in  hand is : [3, 10]\n",
      "Hey Player_1, Please choose your options : hit(1) or stand(2).....: 1\n",
      "Player_1 loose as hand value exceed 21 , his cards in hand is : [3, 10, 10]\n",
      "Your total money in hand at end of this game : 1500.0\n",
      "1. Play the Black Jack game\n",
      "2. Exit the Game\n",
      "Enter your choice: 1\n",
      "How Much You want to bet for this Game ? : 200\n",
      "Before chooisng hit/stand : The player's card in  hand is : [10, 3]\n",
      "Hey Player_1, Please choose your options : hit(1) or stand(2).....: 1\n",
      "Player_1 loose as hand value exceed 21 , his cards in hand is : [10, 3, 10]\n",
      "Your total money in hand at end of this game : 1300.0\n",
      "1. Play the Black Jack game\n",
      "2. Exit the Game\n",
      "Enter your choice: 2\n",
      "Thank You for your Game Time. Your Balance in HAND IS : 1300.0\n",
      "\n",
      "Good BYE......See You Next Time\n",
      "Going to exit the game\n"
     ]
    }
   ],
   "source": [
    "my_black_jack_game()"
   ]
  },
  {
   "cell_type": "markdown",
   "metadata": {},
   "source": [
    "# 40. Write a program that generates the prime factors of a given number using trial division"
   ]
  },
  {
   "cell_type": "code",
   "execution_count": 7,
   "metadata": {},
   "outputs": [
    {
     "name": "stdout",
     "output_type": "stream",
     "text": [
      "The prime factor of number 56 are : [2, 7]\n"
     ]
    }
   ],
   "source": [
    "# To find the prime factors of a given number\n",
    "\n",
    "def find_prime_factor(n):\n",
    "    prime_factor = []            # to store the prime factor of n\n",
    "    \n",
    "    for i in range(2,int((n+3)/2)):\n",
    "        if chk_prime(i) and n % i == 0 :    # checking i to be prime and also divides n\n",
    "            prime_factor.append(i)\n",
    "            \n",
    "    return prime_factor\n",
    "            \n",
    "        \n",
    "# To Test the above function\n",
    "n = 56\n",
    "\n",
    "print(f\"The prime factor of number {n} are : {find_prime_factor(n)}\")                   \n",
    "                   \n",
    "    "
   ]
  },
  {
   "cell_type": "code",
   "execution_count": null,
   "metadata": {},
   "outputs": [],
   "source": []
  }
 ],
 "metadata": {
  "kernelspec": {
   "display_name": "Python 3",
   "language": "python",
   "name": "python3"
  },
  "language_info": {
   "codemirror_mode": {
    "name": "ipython",
    "version": 3
   },
   "file_extension": ".py",
   "mimetype": "text/x-python",
   "name": "python",
   "nbconvert_exporter": "python",
   "pygments_lexer": "ipython3",
   "version": "3.8.5"
  }
 },
 "nbformat": 4,
 "nbformat_minor": 4
}
