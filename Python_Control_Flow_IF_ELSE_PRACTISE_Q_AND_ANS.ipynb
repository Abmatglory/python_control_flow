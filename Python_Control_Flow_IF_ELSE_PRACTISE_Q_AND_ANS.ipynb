{
 "cells": [
  {
   "cell_type": "markdown",
   "metadata": {},
   "source": [
    "# TOPIC: CONTROL FLOW Based Problem : if-else"
   ]
  },
  {
   "cell_type": "markdown",
   "metadata": {},
   "source": [
    "# Basic If-Else Statements:"
   ]
  },
  {
   "cell_type": "markdown",
   "metadata": {},
   "source": [
    "# 1. Write a Python program to check if a given number is positive or negative."
   ]
  },
  {
   "cell_type": "code",
   "execution_count": 3,
   "metadata": {},
   "outputs": [
    {
     "name": "stdout",
     "output_type": "stream",
     "text": [
      "The number 0 is : non-negative\n",
      "\n",
      "The number 4 is : positive\n",
      "\n",
      "The number -7 is : negative\n",
      "\n"
     ]
    }
   ],
   "source": [
    "def chk_pos_neg(n):\n",
    "    if n > 0:\n",
    "        return 'positive'\n",
    "    elif n < 0:\n",
    "        return 'negative'\n",
    "    else :\n",
    "        return 'non-negative'\n",
    "    \n",
    "#Test above function\n",
    "n = 0\n",
    "m = 4 \n",
    "k = -7\n",
    "\n",
    "print(f\"The number {n} is : {chk_pos_neg(n)}\\n\")\n",
    "print(f\"The number {m} is : {chk_pos_neg(m)}\\n\")\n",
    "print(f\"The number {k} is : {chk_pos_neg(k)}\\n\")\n"
   ]
  },
  {
   "cell_type": "markdown",
   "metadata": {},
   "source": [
    "# 2. Create a program that determines if a person is eligible to vote based on their age."
   ]
  },
  {
   "cell_type": "code",
   "execution_count": 4,
   "metadata": {},
   "outputs": [
    {
     "name": "stdout",
     "output_type": "stream",
     "text": [
      "The person having age 15 is not eligible to vote\n",
      "The person having age 21 is eligible to vote\n"
     ]
    }
   ],
   "source": [
    "def chk_eligible_to_vote(n):\n",
    "    if n > 18:\n",
    "        return True\n",
    "    else :\n",
    "        return False\n",
    "    \n",
    "#Test above function\n",
    "n = 15\n",
    "m = 21\n",
    "\n",
    "if chk_eligible_to_vote(n):\n",
    "    print(f\"The person having age {n} is eligible to vote\")\n",
    "else :\n",
    "    print(f\"The person having age {n} is not eligible to vote\")\n",
    "    \n",
    "if chk_eligible_to_vote(m):\n",
    "    print(f\"The person having age {m} is eligible to vote\")\n",
    "else :\n",
    "    print(f\"The person having age {m} is not eligible to vote\")\n",
    "    \n",
    "\n"
   ]
  },
  {
   "cell_type": "markdown",
   "metadata": {},
   "source": [
    "# 3. Develop a program to find the maximum of two numbers using if-else statements."
   ]
  },
  {
   "cell_type": "code",
   "execution_count": 5,
   "metadata": {},
   "outputs": [
    {
     "name": "stdout",
     "output_type": "stream",
     "text": [
      "The maxmium between two numbers 23 and 17 is : 23\n",
      "\n",
      "Both the numbers 23 and 23 are equal\n"
     ]
    }
   ],
   "source": [
    "# the below function return the maximum of 2 number and return 0 for equal\n",
    "def max_between_two_num(num1 , num2):    # assuming\n",
    "    if num1 > num2 :\n",
    "        return num1\n",
    "    elif num2 > num1 :\n",
    "        return num2\n",
    "    else :\n",
    "        return 0\n",
    "\n",
    "#Test above function\n",
    "n = 23\n",
    "m = 17\n",
    "k = 23\n",
    "\n",
    "if max_between_two_num(n , m ):\n",
    "    print(f\"The maxmium between two numbers {n} and {m} is : {max_between_two_num(n,m)}\")\n",
    "else :\n",
    "    print(f\"Both the numbers {n} and {m} are equal\")\n",
    " \n",
    "print()\n",
    "\n",
    "if max_between_two_num(n , k ):\n",
    "    print(f\"The maxmium between two numbers {n} and {k} is : {max_between_two_num(n,k)}\")\n",
    "else :\n",
    "    print(f\"Both the numbers {n} and {k} are equal\")\n",
    "    "
   ]
  },
  {
   "cell_type": "markdown",
   "metadata": {},
   "source": [
    "# 4. Write a Python script to classify a given year as a leap year or not."
   ]
  },
  {
   "cell_type": "code",
   "execution_count": 6,
   "metadata": {},
   "outputs": [
    {
     "name": "stdout",
     "output_type": "stream",
     "text": [
      "The Year 2020 is Leap Year\n",
      "\n",
      "The Year 2023 is not a Leap Year\n",
      "\n",
      "The Year 2100 is not a Leap Year\n",
      "\n"
     ]
    }
   ],
   "source": [
    "def chk_leap_year(n):\n",
    "    if n % 100 == 0 :\n",
    "        if n % 400 == 0:\n",
    "            return True\n",
    "        else :\n",
    "            return False\n",
    "    else :\n",
    "        if n % 4 == 0:\n",
    "            return True\n",
    "        else :\n",
    "            return False\n",
    "        \n",
    "#Test above function\n",
    "n = 2020\n",
    "m = 2100\n",
    "k = 2023\n",
    "\n",
    "if chk_leap_year(n):\n",
    "    print(f\"The Year {n} is Leap Year\\n\")\n",
    "else :\n",
    "    print(f\"The Year {n} is not a Leap Year\\n\")\n",
    "    \n",
    "if chk_leap_year(k):\n",
    "    print(f\"The Year {k} is Leap Year\\n\")\n",
    "else :\n",
    "    print(f\"The Year {k} is not a Leap Year\\n\")\n",
    "\n",
    "if chk_leap_year(m):\n",
    "    print(f\"The Year {m} is Leap Year\\n\")\n",
    "else :\n",
    "    print(f\"The Year {m} is not a Leap Year\\n\")"
   ]
  },
  {
   "cell_type": "markdown",
   "metadata": {},
   "source": [
    "# 5. Create a program that checks whether a character is a vowel or a consonant."
   ]
  },
  {
   "cell_type": "code",
   "execution_count": 7,
   "metadata": {},
   "outputs": [
    {
     "name": "stdout",
     "output_type": "stream",
     "text": [
      "The character a is vowel\n",
      "\n",
      "The character t is not a vowel\n",
      "\n"
     ]
    }
   ],
   "source": [
    "def chk_is_vowel(c):\n",
    "    if c.lower() in 'aeiou' :\n",
    "        return True\n",
    "    else :\n",
    "        return False\n",
    "    \n",
    "#Test above function\n",
    "n = 'a'\n",
    "m = 't'\n",
    "\n",
    "\n",
    "if chk_is_vowel(n):\n",
    "    print(f\"The character {n} is vowel\\n\")\n",
    "else :\n",
    "    print(f\"The character {n} is not a vowel\\n\") \n",
    "    \n",
    "if chk_is_vowel(m):\n",
    "    print(f\"The character {m} is vowel\\n\")\n",
    "else :\n",
    "    print(f\"The character {m} is not a vowel\\n\") "
   ]
  },
  {
   "cell_type": "markdown",
   "metadata": {},
   "source": [
    "# 6. Implement a program to determine whether a given number is even or odd.\n"
   ]
  },
  {
   "cell_type": "code",
   "execution_count": 9,
   "metadata": {},
   "outputs": [
    {
     "name": "stdout",
     "output_type": "stream",
     "text": [
      "The number 20 is even\n",
      "\n",
      "The number 17 is odd\n",
      "\n"
     ]
    }
   ],
   "source": [
    "def chk_even(n):\n",
    "    if n % 2 == 0:\n",
    "        return True\n",
    "    else :\n",
    "        return False\n",
    "    \n",
    "#Test above function\n",
    "n = 20\n",
    "m = 17\n",
    "\n",
    "\n",
    "if chk_even(n):\n",
    "    print(f\"The number {n} is even\\n\")\n",
    "else :\n",
    "    print(f\"The number {n} is odd\\n\")    \n",
    "    \n",
    "if chk_even(m):\n",
    "    print(f\"The number {m} is even\\n\")\n",
    "else :\n",
    "    print(f\"The number {m} is odd\\n\")    "
   ]
  },
  {
   "cell_type": "markdown",
   "metadata": {},
   "source": [
    "# 7. Write a Python function to calculate the absolute value of a number without using the 'abs()' function.\n"
   ]
  },
  {
   "cell_type": "code",
   "execution_count": 10,
   "metadata": {},
   "outputs": [
    {
     "name": "stdout",
     "output_type": "stream",
     "text": [
      "the absolute value of a number 20 is : 20\n",
      "\n",
      "the absolute value of a number -9 is : 9\n",
      "\n"
     ]
    }
   ],
   "source": [
    "def calc_abs(n):\n",
    "    if n < 0 :\n",
    "        return (-1)*n\n",
    "    else :\n",
    "        return n\n",
    "    \n",
    "#Test above function\n",
    "n = 20\n",
    "m = -9\n",
    "\n",
    "print(f\"the absolute value of a number {n} is : {calc_abs(n)}\\n\")\n",
    "print(f\"the absolute value of a number {m} is : {calc_abs(m)}\\n\")\n",
    "\n"
   ]
  },
  {
   "cell_type": "markdown",
   "metadata": {},
   "source": [
    "# 8. Develop a program that determines the largest of three given numbers using if-else statements."
   ]
  },
  {
   "cell_type": "code",
   "execution_count": 17,
   "metadata": {},
   "outputs": [
    {
     "name": "stdout",
     "output_type": "stream",
     "text": [
      "The largest of three given number 23 , 67 and 14 is : 67\n"
     ]
    }
   ],
   "source": [
    "def largest_num(num1,num2,num3):\n",
    "    if num1 >= num2 and num1 >= num3:\n",
    "        return num1\n",
    "    elif num2 >= num1 and num2 >= num3:\n",
    "        return num2\n",
    "    else:\n",
    "        return num3\n",
    "n = 23\n",
    "m = 67\n",
    "k = 14\n",
    "\n",
    "print(f\"The largest of three given number {n} , {m} and {k} is : {largest_num(n,m,k)}\")\n",
    "        "
   ]
  },
  {
   "cell_type": "markdown",
   "metadata": {},
   "source": [
    "# 9. Create a program that checks if a given string is a palindrome.\n"
   ]
  },
  {
   "cell_type": "code",
   "execution_count": 12,
   "metadata": {},
   "outputs": [
    {
     "name": "stdout",
     "output_type": "stream",
     "text": [
      "Your string 'abhishek' is not a Palindrome\n",
      "\n",
      "Your string 'abcba' is Palindrome\n"
     ]
    }
   ],
   "source": [
    "def chk_palindrome(input_str):\n",
    "    \n",
    "    #Reverse the string\n",
    "    input_str_rev = input_str[: : -1]\n",
    "    \n",
    "    if input_str == input_str_rev:\n",
    "        return True\n",
    "    else :\n",
    "        return False\n",
    "\n",
    "#Test the above function\n",
    "a9 = 'abhishek'\n",
    "b9 = 'abcba'\n",
    "\n",
    "if chk_palindrome(a9):\n",
    "    print(\"Your string \\'\" + a9 + \"\\' is Palindrome\\n\")\n",
    "else :\n",
    "    print(\"Your string \\'\" + a9 + \"\\' is not a Palindrome\\n\")    \n",
    "    \n",
    "if chk_palindrome(b9):\n",
    "    print(\"Your string \\'\" + b9 + \"\\' is Palindrome\")\n",
    "else :\n",
    "    print(\"Your string \\'\" + b9 + \"\\' is not a Palindrome\")    "
   ]
  },
  {
   "cell_type": "markdown",
   "metadata": {},
   "source": [
    "# 10. Write a Python program to calculate the grade based on a student's score."
   ]
  },
  {
   "cell_type": "code",
   "execution_count": 15,
   "metadata": {},
   "outputs": [
    {
     "name": "stdout",
     "output_type": "stream",
     "text": [
      "The grade of student who got marks 92 is: A+\n",
      "\n",
      "The grade of student who got marks 56 is: C\n",
      "\n",
      "The grade of student who got marks 39 is: D\n",
      "\n"
     ]
    }
   ],
   "source": [
    "def chk_grade(marks):\n",
    "    if marks > 85 :\n",
    "        return 'A+'\n",
    "    elif marks > 70 :\n",
    "        return 'A'\n",
    "    elif marks > 60 :\n",
    "        return 'B'\n",
    "    elif marks > 40 :\n",
    "        return 'C'\n",
    "    else :\n",
    "        return 'D'\n",
    " \n",
    "# To`Test the above function\n",
    "\n",
    "n = 92\n",
    "m = 56\n",
    "k = 39\n",
    "\n",
    "print(f\"The grade of student who got marks {n} is: {chk_grade(n)}\\n\")\n",
    "print(f\"The grade of student who got marks {m} is: {chk_grade(m)}\\n\")\n",
    "print(f\"The grade of student who got marks {k} is: {chk_grade(k)}\\n\")"
   ]
  },
  {
   "cell_type": "markdown",
   "metadata": {},
   "source": [
    "# Nested If- Else Statements:"
   ]
  },
  {
   "cell_type": "markdown",
   "metadata": {},
   "source": [
    "# 11. Write a program to find the largest among three numbers using nested if-else statements."
   ]
  },
  {
   "cell_type": "code",
   "execution_count": 16,
   "metadata": {},
   "outputs": [
    {
     "name": "stdout",
     "output_type": "stream",
     "text": [
      "The largest of three given number 23 , 67 and 14 is : 67\n"
     ]
    }
   ],
   "source": [
    "def largest_num(num1,num2,num3):\n",
    "    if num1 > num2 :\n",
    "        if num1 > num3:\n",
    "            return num1\n",
    "        else :\n",
    "            return num3\n",
    "    else :\n",
    "        if num2 > num3 :\n",
    "            return num2\n",
    "        else :\n",
    "            return num3\n",
    "\n",
    "n = 23\n",
    "m = 67\n",
    "k = 14\n",
    "\n",
    "print(f\"The largest of three given number {n} , {m} and {k} is : {largest_num(n,m,k)}\")"
   ]
  },
  {
   "cell_type": "markdown",
   "metadata": {},
   "source": [
    "# 12. Implement a program to determine if a triangle is equilateral, isosceles, or scalene."
   ]
  },
  {
   "cell_type": "code",
   "execution_count": 20,
   "metadata": {},
   "outputs": [
    {
     "name": "stdout",
     "output_type": "stream",
     "text": [
      "The triangle having sides 20 , 20 and 20 is : Equilateral\n",
      "\n",
      "The triangle having sides 20 , 20 and 12 is : Isosceles\n",
      "\n",
      "The triangle having sides 20 , 16 and 12 is : Scalene\n",
      "\n"
     ]
    }
   ],
   "source": [
    "def triangle_type(n,m,k):\n",
    "    if n == m == k :\n",
    "        return \"Equilateral\"\n",
    "    elif n == m or n == k or m == k :\n",
    "        return \"Isosceles\"\n",
    "    else :\n",
    "        return \"Scalene\"\n",
    "    \n",
    "#test the above function\n",
    "\n",
    "n , n1 , n2 = 20 ,20 ,20\n",
    "m , m1 = 16, 16\n",
    "k , k1 = 16 , 16\n",
    "l = 12\n",
    "\n",
    "print(f\"The triangle having sides {n} , {n1} and {n2} is : {triangle_type(n,n1,n2)}\\n\")\n",
    "print(f\"The triangle having sides {n} , {n1} and {l} is : {triangle_type(n,n1,l)}\\n\")\n",
    "print(f\"The triangle having sides {n} , {k} and {l} is : {triangle_type(n,k,l)}\\n\")\n",
    "    "
   ]
  },
  {
   "cell_type": "markdown",
   "metadata": {},
   "source": [
    "# 13. Develop a program that checks if a year is a leap year and also if it is a century year."
   ]
  },
  {
   "cell_type": "code",
   "execution_count": 21,
   "metadata": {},
   "outputs": [
    {
     "name": "stdout",
     "output_type": "stream",
     "text": [
      "The Year 2020 is Leap Year\n",
      "\n",
      "The Year 2023 is not a Leap Year\n",
      "\n",
      "The Year 2100 is not a Leap Year\n",
      "\n"
     ]
    }
   ],
   "source": [
    "def chk_leap_year(n):\n",
    "    if n % 100 == 0 :\n",
    "        if n % 400 == 0:\n",
    "            return True\n",
    "        else :\n",
    "            return False\n",
    "    else :\n",
    "        if n % 4 == 0:\n",
    "            return True\n",
    "        else :\n",
    "            return False\n",
    "        \n",
    "#Test above function\n",
    "n = 2020\n",
    "m = 2100\n",
    "k = 2023\n",
    "\n",
    "if chk_leap_year(n):\n",
    "    print(f\"The Year {n} is Leap Year\\n\")\n",
    "else :\n",
    "    print(f\"The Year {n} is not a Leap Year\\n\")\n",
    "    \n",
    "if chk_leap_year(k):\n",
    "    print(f\"The Year {k} is Leap Year\\n\")\n",
    "else :\n",
    "    print(f\"The Year {k} is not a Leap Year\\n\")\n",
    "\n",
    "if chk_leap_year(m):\n",
    "    print(f\"The Year {m} is Leap Year\\n\")\n",
    "else :\n",
    "    print(f\"The Year {m} is not a Leap Year\\n\")"
   ]
  },
  {
   "cell_type": "markdown",
   "metadata": {},
   "source": [
    "# 14. Write a Python script to determine if a number is positive, negative, or zero."
   ]
  },
  {
   "cell_type": "code",
   "execution_count": 23,
   "metadata": {},
   "outputs": [
    {
     "name": "stdout",
     "output_type": "stream",
     "text": [
      "The number 0 is : zero\n",
      "\n",
      "The number 4 is : positive\n",
      "\n",
      "The number -7 is : negative\n",
      "\n"
     ]
    }
   ],
   "source": [
    "def chk_pos_neg_zero(n):\n",
    "    if n > 0:\n",
    "        return 'positive'\n",
    "    elif n < 0:\n",
    "        return 'negative'\n",
    "    else :\n",
    "        return 'zero'\n",
    "    \n",
    "#Test above function\n",
    "n = 0\n",
    "m = 4 \n",
    "k = -7\n",
    "\n",
    "print(f\"The number {n} is : {chk_pos_neg_zero(n)}\\n\")\n",
    "print(f\"The number {m} is : {chk_pos_neg_zero(m)}\\n\")\n",
    "print(f\"The number {k} is : {chk_pos_neg_zero(k)}\\n\")\n"
   ]
  },
  {
   "cell_type": "markdown",
   "metadata": {},
   "source": [
    "# 15. Create a program to check if a person is a teenager (between 13 and   19 years old)."
   ]
  },
  {
   "cell_type": "code",
   "execution_count": 26,
   "metadata": {},
   "outputs": [
    {
     "name": "stdout",
     "output_type": "stream",
     "text": [
      "The person having age 15 is Teenager\n",
      "\n",
      "The person having age 21 is not a Teenager\n",
      "\n"
     ]
    }
   ],
   "source": [
    "def chk_teenager(n):\n",
    "    if n >= 13:\n",
    "        if n < 19 :\n",
    "            return True\n",
    "        else :\n",
    "            return False\n",
    "    else :\n",
    "        return False\n",
    "    \n",
    "#Test above function\n",
    "n = 15\n",
    "m = 21\n",
    "\n",
    "if chk_teenager(n):\n",
    "    print(f\"The person having age {n} is Teenager\\n\")\n",
    "else :\n",
    "    print(f\"The person having age {n} is not a Teenager\\n\")\n",
    "    \n",
    "if chk_teenager(m):\n",
    "    print(f\"The person having age {m} is Teenager\\n\")\n",
    "else :\n",
    "    print(f\"The person having age {m} is not a Teenager\\n\")"
   ]
  },
  {
   "cell_type": "markdown",
   "metadata": {},
   "source": [
    "# 16. Develop a program that determines the type of angle based on its measure (acute, obtuse, or right)."
   ]
  },
  {
   "cell_type": "code",
   "execution_count": 27,
   "metadata": {},
   "outputs": [
    {
     "name": "stdout",
     "output_type": "stream",
     "text": [
      "The angle 120 is : Obtuse\n",
      "\n",
      "The angle 90 is : Right\n",
      "\n",
      "The angle 80 is : Acute\n",
      "\n"
     ]
    }
   ],
   "source": [
    "def angle_type(n):\n",
    "    if n > 90 :\n",
    "        return \"Obtuse\"\n",
    "    elif n < 90 :\n",
    "        return \"Acute\"\n",
    "    else :\n",
    "        return \"Right\"\n",
    "    \n",
    "#Test above function\n",
    "n = 120\n",
    "m = 90\n",
    "k = 80\n",
    "\n",
    "print(f\"The angle {n} is : {angle_type(n)}\\n\")   \n",
    "print(f\"The angle {m} is : {angle_type(m)}\\n\") \n",
    "print(f\"The angle {k} is : {angle_type(k)}\\n\") "
   ]
  },
  {
   "cell_type": "markdown",
   "metadata": {},
   "source": [
    "# 17. Write a Python program to calculate the roots of a quadratic equation."
   ]
  },
  {
   "cell_type": "code",
   "execution_count": 33,
   "metadata": {},
   "outputs": [
    {
     "name": "stdout",
     "output_type": "stream",
     "text": [
      "The roots are real and distinct: 5.0 and 2.0\n"
     ]
    }
   ],
   "source": [
    "# Given number\n",
    "\n",
    "a , b , c = 1 , -7 , 10\n",
    "\n",
    "# Calculate the discriminant\n",
    "d = b**2 - 4*a*c\n",
    "\n",
    "# Check the type and calculate roots based on the discriminant\n",
    "if d > 0:\n",
    "    # Two real and distinct roots\n",
    "    root1 = (-b + (d**0.5)) / (2*a)  \n",
    "    root2 = (-b - (d**0.5)) / (2*a)\n",
    "    print(f\"The roots are real and distinct: {root1} and {root2}\")\n",
    "elif d == 0:\n",
    "    # One real and repeated root\n",
    "    root = -b / (2*a)\n",
    "    print(f\"The root is real and repeated: {root}\")\n",
    "else:\n",
    "    # Complex roots (conjugates)\n",
    "    r = -b / (2*a)                # Real part\n",
    "    i = (abs(d)**0.5) / (2*a)     # Imaginary part\n",
    "    print(f\"The roots are complex:\")"
   ]
  },
  {
   "cell_type": "markdown",
   "metadata": {},
   "source": [
    "# 18. Implement a program to determine the day of the week based on a user-provided number (1 for Monday, 2 for Tuesday, etc.)."
   ]
  },
  {
   "cell_type": "code",
   "execution_count": 34,
   "metadata": {},
   "outputs": [
    {
     "name": "stdout",
     "output_type": "stream",
     "text": [
      "The day of week for 3 is : WEDNESDAY\n",
      "\n",
      "The day of week for 11 is : THURSDAY\n",
      "\n",
      "The day of week for 5 is : FRIDAY\n",
      "\n"
     ]
    }
   ],
   "source": [
    "def chk_day(n):\n",
    "    \n",
    "    n = n % 7\n",
    "    if n == 0 :\n",
    "        return \"SUNDAY\"\n",
    "    elif n == 1 :\n",
    "        return \"MONDAY\"\n",
    "    elif n == 2 :\n",
    "        return \"TUESDAY\"\n",
    "    elif n == 3 :\n",
    "        return \"WEDNESDAY\"\n",
    "    elif n == 4 :\n",
    "        return \"THURSDAY\"\n",
    "    elif n == 5 :\n",
    "        return \"FRIDAY\"\n",
    "    else :\n",
    "        return \"SATURDAY\"\n",
    "\n",
    "# Test above function\n",
    "n,m,k = 3 , 11 , 5\n",
    "\n",
    "print(f\"The day of week for {n} is : {chk_day(n)}\\n\")\n",
    "print(f\"The day of week for {m} is : {chk_day(m)}\\n\")\n",
    "print(f\"The day of week for {k} is : {chk_day(k)}\\n\")"
   ]
  },
  {
   "cell_type": "markdown",
   "metadata": {},
   "source": [
    "# 19. Create a program that determines if a year is a leap year and also if it is evenly divisible by 400."
   ]
  },
  {
   "cell_type": "code",
   "execution_count": 35,
   "metadata": {},
   "outputs": [
    {
     "name": "stdout",
     "output_type": "stream",
     "text": [
      "The Year 2020 is Leap Year\n",
      "\n",
      "The Year 2023 is not a Leap Year\n",
      "\n",
      "The Year 2100 is not a Leap Year\n",
      "\n"
     ]
    }
   ],
   "source": [
    "def chk_leap_year(n):\n",
    "    if n % 100 == 0 :\n",
    "        if n % 400 == 0:\n",
    "            return True\n",
    "        else :\n",
    "            return False\n",
    "    else :\n",
    "        if n % 4 == 0:\n",
    "            return True\n",
    "        else :\n",
    "            return False\n",
    "        \n",
    "#Test above function\n",
    "n = 2020\n",
    "m = 2100\n",
    "k = 2023\n",
    "\n",
    "if chk_leap_year(n):\n",
    "    print(f\"The Year {n} is Leap Year\\n\")\n",
    "else :\n",
    "    print(f\"The Year {n} is not a Leap Year\\n\")\n",
    "    \n",
    "if chk_leap_year(k):\n",
    "    print(f\"The Year {k} is Leap Year\\n\")\n",
    "else :\n",
    "    print(f\"The Year {k} is not a Leap Year\\n\")\n",
    "\n",
    "if chk_leap_year(m):\n",
    "    print(f\"The Year {m} is Leap Year\\n\")\n",
    "else :\n",
    "    print(f\"The Year {m} is not a Leap Year\\n\")"
   ]
  },
  {
   "cell_type": "markdown",
   "metadata": {},
   "source": [
    "# 20. Develop a program that checks if a given number is prime or not using nested if-else statements."
   ]
  },
  {
   "cell_type": "code",
   "execution_count": 36,
   "metadata": {},
   "outputs": [
    {
     "name": "stdout",
     "output_type": "stream",
     "text": [
      "The number 11 is PRIME\n",
      "\n",
      "The number 40 is not PRIME\n",
      "\n"
     ]
    }
   ],
   "source": [
    "# Function to check whether given number n is prime or not\n",
    "def chk_prime(n):\n",
    "    \n",
    "    if n < 2:\n",
    "        return False\n",
    "    else :\n",
    "        if n == 2 :\n",
    "            return True\n",
    "        else :\n",
    "            for i in range(int(n/2) + 1 ):\n",
    "                if i > 1:\n",
    "                    if n % i == 0 :\n",
    "                        return False\n",
    "                    \n",
    "            return True                     \n",
    "                \n",
    "#Test the above function\n",
    "n , m  = 11 , 40\n",
    "\n",
    "if chk_prime(n):\n",
    "    print(f\"The number {n} is PRIME\\n\")\n",
    "else :\n",
    "    print(f\"The number {n} is not PRIME\\n\")\n",
    "    \n",
    "if chk_prime(m):\n",
    "    print(f\"The number {m} is PRIME\\n\")\n",
    "else :\n",
    "    print(f\"The number {m} is not PRIME\\n\")\n",
    "    "
   ]
  },
  {
   "cell_type": "markdown",
   "metadata": {},
   "source": [
    "# Elif Statements:"
   ]
  },
  {
   "cell_type": "markdown",
   "metadata": {},
   "source": [
    "# 21. Write a Python program to assign grades based on different ranges of scores using elif statements."
   ]
  },
  {
   "cell_type": "code",
   "execution_count": 50,
   "metadata": {},
   "outputs": [
    {
     "name": "stdout",
     "output_type": "stream",
     "text": [
      "The student's marks is 89, and the grade is A+.\n"
     ]
    }
   ],
   "source": [
    "# student's marks\n",
    "marks = 89\n",
    "\n",
    "# Assign grades based on different score ranges\n",
    "if 80 <= marks <= 100:\n",
    "    grade = 'A+'\n",
    "elif 70 <= marks < 80:\n",
    "    grade = 'A'\n",
    "elif 60 <= marks < 70:\n",
    "    grade = 'B'\n",
    "elif 40 <= marks < 60:\n",
    "    grade = 'C'\n",
    "elif 0 <= marks < 40:\n",
    "    grade = 'D'\n",
    "else:\n",
    "    grade = 'Invalid score. Please enter a score between 0 and 100.'\n",
    "\n",
    "# Display the result\n",
    "print(f\"The student's marks is {marks}, and the grade is {grade}.\")"
   ]
  },
  {
   "cell_type": "markdown",
   "metadata": {},
   "source": [
    "# 22. Implement a program to determine the type of a triangle based on its angles."
   ]
  },
  {
   "cell_type": "code",
   "execution_count": 38,
   "metadata": {},
   "outputs": [
    {
     "name": "stdout",
     "output_type": "stream",
     "text": [
      "Enter the measure of the first angle: 90\n",
      "Enter the measure of the second angle: 80\n",
      "Enter the measure of the third angle: 10\n",
      "The triangle is a Right-angled triangle.\n"
     ]
    }
   ],
   "source": [
    "# Input the angles of the triangle\n",
    "angle1 = float(input(\"Enter the measure of the first angle: \"))\n",
    "angle2 = float(input(\"Enter the measure of the second angle: \"))\n",
    "angle3 = float(input(\"Enter the measure of the third angle: \"))\n",
    "\n",
    "# Check the type of triangle based on angles\n",
    "if angle1 + angle2 + angle3 == 180:\n",
    "    if angle1 == angle2 == angle3:\n",
    "        triangle_type = \"Equilateral\"\n",
    "    elif angle1 == 90 or angle2 == 90 or angle3 == 90:\n",
    "        triangle_type = \"Right-angled\"\n",
    "    elif angle1 < 90 and angle2 < 90 and angle3 < 90:\n",
    "        triangle_type = \"Acute-angled\"\n",
    "    else:\n",
    "        triangle_type = \"Obtuse-angled\"\n",
    "    # Display the result\n",
    "    print(f\"The triangle is a {triangle_type} triangle.\")\n",
    "else:\n",
    "    print(\"Invalid triangle. The sum of angles should be 180 degrees.\")"
   ]
  },
  {
   "cell_type": "markdown",
   "metadata": {},
   "source": [
    "# 23. Develop a program to categorize a given person's BMI into underweight, normal, overweight, or obese using elif statements."
   ]
  },
  {
   "cell_type": "markdown",
   "metadata": {},
   "source": [
    "Body Mass Index (BMI) is a person's weight in kilograms divided by the square of height in meters"
   ]
  },
  {
   "cell_type": "code",
   "execution_count": 51,
   "metadata": {},
   "outputs": [
    {
     "name": "stdout",
     "output_type": "stream",
     "text": [
      "Enter the weight in kilograms: 70\n",
      "Enter the height in meters: 1.54\n",
      "The person's BMI is 29.52, and the category is Overweight.\n"
     ]
    }
   ],
   "source": [
    "# Input the person's weight in kilograms and height in meters\n",
    "weight = float(input(\"Enter the weight in kilograms: \"))\n",
    "height = float(input(\"Enter the height in meters: \"))\n",
    "\n",
    "# Calculate BMI\n",
    "bmi = weight / (height**2)\n",
    "\n",
    "# Categorize BMI using elif statements\n",
    "if bmi < 18.5:\n",
    "    category = \"Underweight\"\n",
    "elif 18.5 <= bmi < 24.9:\n",
    "    category = \"Normal\"\n",
    "elif 25 <= bmi < 29.9:\n",
    "    category = \"Overweight\"\n",
    "else:\n",
    "    category = \"Obese\"\n",
    "\n",
    "# Display the result\n",
    "print(f\"The person's BMI is {bmi:.2f}, and the category is {category}.\")\n"
   ]
  },
  {
   "cell_type": "markdown",
   "metadata": {},
   "source": [
    "# 24. Create a program that determines whether a given number is positive, negative, or zero using elif statements."
   ]
  },
  {
   "cell_type": "code",
   "execution_count": 40,
   "metadata": {},
   "outputs": [
    {
     "name": "stdout",
     "output_type": "stream",
     "text": [
      "Enter a number: -5\n",
      "The number -5.0 is Negative.\n"
     ]
    }
   ],
   "source": [
    "# Input a number\n",
    "number = float(input(\"Enter a number: \"))\n",
    "\n",
    "# Determine whether the number is positive, negative, or zero\n",
    "if number > 0:\n",
    "    result = \"Positive\"\n",
    "elif number < 0:\n",
    "    result = \"Negative\"\n",
    "else:\n",
    "    result = \"Zero\"\n",
    "\n",
    "# Display the result\n",
    "print(f\"The number {number} is {result}.\")\n"
   ]
  },
  {
   "cell_type": "markdown",
   "metadata": {},
   "source": [
    "# 25. Write a Python script to determine the type of a character (uppercase, lowercase, or special) using elif statements."
   ]
  },
  {
   "cell_type": "code",
   "execution_count": 41,
   "metadata": {},
   "outputs": [
    {
     "name": "stdout",
     "output_type": "stream",
     "text": [
      "Enter a character: Y\n",
      "The character 'Y' is Uppercase.\n"
     ]
    }
   ],
   "source": [
    "# Input a character\n",
    "char = input(\"Enter a character: \")\n",
    "\n",
    "# Determine the type of character using elif statements\n",
    "if char.isalpha():\n",
    "    if char.isupper():\n",
    "        char_type = \"Uppercase\"\n",
    "    else:\n",
    "        char_type = \"Lowercase\"\n",
    "else:\n",
    "    char_type = \"Special\"\n",
    "\n",
    "# Display the result\n",
    "print(f\"The character '{char}' is {char_type}.\")\n"
   ]
  },
  {
   "cell_type": "markdown",
   "metadata": {},
   "source": [
    "# 26. Implement a program to calculate the discounted price based on different purchase amounts using elif statements."
   ]
  },
  {
   "cell_type": "code",
   "execution_count": 53,
   "metadata": {},
   "outputs": [
    {
     "name": "stdout",
     "output_type": "stream",
     "text": [
      "Enter the purchase amount: 300\n",
      "The discounted price for a purchase amount of Rs 300.00 is Rs 255.00.\n"
     ]
    }
   ],
   "source": [
    "# Input the purchase amount\n",
    "purchase_amount = float(input(\"Enter the purchase amount: \"))\n",
    "\n",
    "# Determine the discounted price based on different purchase amounts using elif statements\n",
    "if purchase_amount < 40:\n",
    "    discount_rate = 0\n",
    "elif 40 <= purchase_amount < 70:\n",
    "    discount_rate = 0.05\n",
    "elif 70 <= purchase_amount < 100:\n",
    "    discount_rate = 0.1\n",
    "else:\n",
    "    discount_rate = 0.15\n",
    "\n",
    "# Calculate the discounted price\n",
    "discounted_price = purchase_amount - (purchase_amount * discount_rate)\n",
    "\n",
    "# Display the result\n",
    "print(f\"The discounted price for a purchase amount of Rs {purchase_amount:.2f} is Rs {discounted_price:.2f}.\")\n"
   ]
  },
  {
   "cell_type": "markdown",
   "metadata": {},
   "source": [
    "# 27. Develop a program to calculate the electricity bill based on different consumption slabs using elif statements."
   ]
  },
  {
   "cell_type": "code",
   "execution_count": 56,
   "metadata": {},
   "outputs": [
    {
     "name": "stdout",
     "output_type": "stream",
     "text": [
      "Enter the electricity consumption in kilowatt-hours: 180\n",
      "The electricity bill for a consumption of 180.0 kWh is Rs 216.00.\n"
     ]
    }
   ],
   "source": [
    "# Input the electricity consumption in kilowatt-hours\n",
    "consumption = float(input(\"Enter the electricity consumption in kilowatt-hours: \"))\n",
    "\n",
    "# Determine the electricity bill based on different consumption slabs using elif statements\n",
    "if consumption <= 50:\n",
    "    rate_per_unit = 0.50\n",
    "elif 50 < consumption <= 150:\n",
    "    rate_per_unit = 0.75\n",
    "elif 150 < consumption <= 300:\n",
    "    rate_per_unit = 1.20\n",
    "else:\n",
    "    rate_per_unit = 1.50\n",
    "\n",
    "# Calculate the electricity bill\n",
    "electricity_bill = consumption * rate_per_unit\n",
    "\n",
    "# Display the result\n",
    "print(f\"The electricity bill for a consumption of {consumption} kWh is Rs {electricity_bill:.2f}.\")\n"
   ]
  },
  {
   "cell_type": "markdown",
   "metadata": {},
   "source": [
    "# 28. Create a program to determine the type of quadrilateral based on its angles and sides using elif statements.\n"
   ]
  },
  {
   "cell_type": "code",
   "execution_count": 44,
   "metadata": {},
   "outputs": [
    {
     "name": "stdout",
     "output_type": "stream",
     "text": [
      "Enter the first angle: 90\n",
      "Enter the second angle: 90\n",
      "Enter the third angle: 90\n",
      "Enter the fourth angle: 90\n",
      "Enter the length of the first side: 12\n",
      "Enter the length of the second side: 14\n",
      "Enter the length of the third side: 12\n",
      "Enter the length of the fourth side: 14\n",
      "The figure is a Rectangle.\n"
     ]
    }
   ],
   "source": [
    "# Input the angles and sides of the quadrilateral\n",
    "angle1 = float(input(\"Enter the first angle: \"))\n",
    "angle2 = float(input(\"Enter the second angle: \"))\n",
    "angle3 = float(input(\"Enter the third angle: \"))\n",
    "angle4 = float(input(\"Enter the fourth angle: \"))\n",
    "\n",
    "side1 = float(input(\"Enter the length of the first side: \"))\n",
    "side2 = float(input(\"Enter the length of the second side: \"))\n",
    "side3 = float(input(\"Enter the length of the third side: \"))\n",
    "side4 = float(input(\"Enter the length of the fourth side: \"))\n",
    "\n",
    "# Check the type of quadrilateral based on angles and sides using elif statements\n",
    "if angle1 + angle2 + angle3 + angle4 == 360:\n",
    "    if side1 == side2 == side3 == side4:\n",
    "        quadrilateral_type = \"Square\"\n",
    "    elif side1 == side3 and side2 == side4:\n",
    "        quadrilateral_type = \"Rectangle\"\n",
    "    else:\n",
    "        quadrilateral_type = \"Quadrilateral\"\n",
    "else:\n",
    "    quadrilateral_type = \"Invalid\"\n",
    "\n",
    "# Display the result\n",
    "print(f\"The figure is a {quadrilateral_type}.\")\n"
   ]
  },
  {
   "cell_type": "markdown",
   "metadata": {},
   "source": [
    "# 29. Write a Python script to determine the season based on a user-provided month using elif statements.\n"
   ]
  },
  {
   "cell_type": "code",
   "execution_count": 57,
   "metadata": {},
   "outputs": [
    {
     "name": "stdout",
     "output_type": "stream",
     "text": [
      "Enter the month (e.g., January, February, etc.): april\n",
      "The season for the month of April is Summer.\n"
     ]
    }
   ],
   "source": [
    "# Input the month\n",
    "month = input(\"Enter the month (e.g., January, February, etc.): \")\n",
    "\n",
    "# Convert month to lowercase for case-insensitive comparison\n",
    "month = month.lower()\n",
    "\n",
    "# Determine the season based on the month using elif statements\n",
    "if month in ['february' , 'march']:\n",
    "    season = \"Spring\"\n",
    "elif month in ['april' , 'may' , 'june']:\n",
    "    season = \"Summer\"\n",
    "elif month in ['july' , 'august' ]:\n",
    "    season = \"Monsoon\"\n",
    "elif month in ['september', 'october', 'november']:\n",
    "    season = \"Autumn\"\n",
    "elif month in ['december', 'january']:\n",
    "    season = \"Winter\"\n",
    "else:\n",
    "    season = \"Invalid month\"\n",
    "\n",
    "# Display the result\n",
    "print(f\"The season for the month of {month.capitalize()} is {season}.\")\n"
   ]
  },
  {
   "cell_type": "markdown",
   "metadata": {},
   "source": [
    "# 30. Implement a program to determine the type of a year (leap or common) and month (30 or 31 days) using elif statements."
   ]
  },
  {
   "cell_type": "code",
   "execution_count": 47,
   "metadata": {},
   "outputs": [
    {
     "name": "stdout",
     "output_type": "stream",
     "text": [
      "Enter the year: 2024\n",
      "Enter the month (e.g., January, February, etc.): february\n",
      "The year 2024 is a Leap Year.\n",
      "The month of February has 29 days.\n"
     ]
    }
   ],
   "source": [
    "# Input the year\n",
    "year = int(input(\"Enter the year: \"))\n",
    "\n",
    "# Determine if it's a leap year or a common year\n",
    "if (year % 4 == 0 and year % 100 != 0) or (year % 400 == 0):\n",
    "    year_type = \"Leap Year\"\n",
    "else:\n",
    "    year_type = \"Common Year\"\n",
    "\n",
    "# Input the month\n",
    "month = input(\"Enter the month (e.g., January, February, etc.): \")\n",
    "\n",
    "# Convert month to lowercase for case-insensitive comparison\n",
    "month = month.lower()\n",
    "\n",
    "# Determine the number of days in the month using elif statements\n",
    "if month in ['january', 'march', 'may', 'july', 'august', 'october', 'december']:\n",
    "    days_in_month = 31\n",
    "elif month in ['april', 'june', 'september', 'november']:\n",
    "    days_in_month = 30\n",
    "elif month == 'february':\n",
    "    if year_type == 'Leap Year':\n",
    "        days_in_month = 29\n",
    "    else:\n",
    "        days_in_month = 28\n",
    "else:\n",
    "    days_in_month = \"Invalid month\"\n",
    "\n",
    "# Display the result\n",
    "print(f\"The year {year} is a {year_type}.\")\n",
    "print(f\"The month of {month.capitalize()} has {days_in_month} days.\")\n"
   ]
  },
  {
   "cell_type": "code",
   "execution_count": null,
   "metadata": {},
   "outputs": [],
   "source": []
  }
 ],
 "metadata": {
  "kernelspec": {
   "display_name": "Python 3",
   "language": "python",
   "name": "python3"
  },
  "language_info": {
   "codemirror_mode": {
    "name": "ipython",
    "version": 3
   },
   "file_extension": ".py",
   "mimetype": "text/x-python",
   "name": "python",
   "nbconvert_exporter": "python",
   "pygments_lexer": "ipython3",
   "version": "3.8.5"
  }
 },
 "nbformat": 4,
 "nbformat_minor": 4
}
